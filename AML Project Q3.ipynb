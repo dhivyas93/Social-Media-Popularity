{
 "cells": [
  {
   "cell_type": "code",
   "execution_count": 1,
   "metadata": {},
   "outputs": [],
   "source": [
    "# importing necessary libraries\n",
    "import pandas as pd\n",
    "import numpy as np\n",
    "import matplotlib.pyplot as plt\n",
    "import seaborn as sns\n",
    "import sklearn.linear_model as sk\n",
    "from sklearn import svm\n",
    "from sklearn.model_selection import train_test_split\n",
    "import sklearn.tree as tree\n",
    "import sklearn.ensemble as en\n",
    "import sklearn.preprocessing as skp\n",
    "from sklearn.feature_selection import SelectFromModel\n",
    "from sklearn import metrics\n",
    "from sklearn.neighbors import KNeighborsClassifier\n",
    "from sklearn.model_selection import GridSearchCV \n",
    "from sklearn.model_selection import train_test_split\n",
    "from sklearn.metrics import roc_curve, auc, classification_report\n",
    "from mlxtend.classifier import StackingClassifier\n",
    "from sklearn import model_selection\n",
    "from sklearn import preprocessing"
   ]
  },
  {
   "cell_type": "code",
   "execution_count": 2,
   "metadata": {
    "scrolled": true
   },
   "outputs": [],
   "source": [
    "# loading the data and picking out the necessary columns\n",
    "data = pd.read_csv(\"OnlineNewsPopularity.csv\")\n",
    "\n",
    "le=preprocessing.LabelEncoder()\n",
    "data[\"labels\"] = pd.Series(le.fit_transform(data.iloc[:,-1]>=1400))\n",
    "\n",
    "\n",
    "neededColumns = [\" n_non_stop_unique_tokens\", \" num_hrefs\", \" num_self_hrefs\", \" num_imgs\", \" num_videos\", \n",
    "                ' data_channel_is_lifestyle',\n",
    "               ' data_channel_is_socmed',\n",
    "               ' kw_avg_min', ' kw_avg_max', ' kw_avg_avg', ' self_reference_avg_sharess',\n",
    "                ' weekday_is_monday', ' weekday_is_tuesday', ' weekday_is_wednesday',\n",
    "               ' weekday_is_thursday', ' weekday_is_friday', ' weekday_is_saturday',\n",
    "               ' weekday_is_sunday', \n",
    "               ' LDA_03',\n",
    "               ' global_sentiment_polarity',\n",
    "                ' rate_positive_words',\n",
    "               ' rate_negative_words',\n",
    "               ' title_sentiment_polarity', ' abs_title_subjectivity',\n",
    "               'labels']\n",
    "\n",
    "newData = data[neededColumns]\n",
    "\n",
    "X = newData.iloc[:,0:len(neededColumns)-1]\n",
    "y = newData.iloc[:,-1]\n",
    "Xtrain, Xtest, ytrain, ytest = train_test_split(X, y, test_size=0.33, random_state=42)"
   ]
  },
  {
   "cell_type": "code",
   "execution_count": 3,
   "metadata": {},
   "outputs": [],
   "source": [
    "# A function to fit the model and print test accuracies\n",
    "def modelfit(alg, dtrain, dy, dtest, dytest):\n",
    "    #Fit the algorithm on the data\n",
    "    alg.fit(dtrain, dy)\n",
    "        \n",
    "    #Predict training set:\n",
    "    dtest_predictions = alg.predict(dtest)\n",
    "    dtest_predprob = alg.predict_proba(dtest)[:,1]\n",
    "    \n",
    "    #Print model report:\n",
    "    print(\"\\nModel Report\")\n",
    "    print(\"Accuracy : %.4g\" % metrics.accuracy_score(dytest, dtest_predictions))\n",
    "    print(\"AUC Score: %f\" % metrics.roc_auc_score(dytest, dtest_predprob))    "
   ]
  },
  {
   "cell_type": "markdown",
   "metadata": {},
   "source": [
    "## BASELINE MODELS"
   ]
  },
  {
   "cell_type": "markdown",
   "metadata": {},
   "source": [
    "### K-Nearest Neighbours"
   ]
  },
  {
   "cell_type": "code",
   "execution_count": 4,
   "metadata": {},
   "outputs": [
    {
     "name": "stdout",
     "output_type": "stream",
     "text": [
      "\n",
      "Model Report\n",
      "Accuracy : 0.5759\n",
      "AUC Score: 0.590394\n"
     ]
    }
   ],
   "source": [
    "# Baseline model 1 - K-Nearest Neighbours with Default parameters\n",
    "model = KNeighborsClassifier()\n",
    "modelfit(model, Xtrain, ytrain, Xtest, ytest)"
   ]
  },
  {
   "cell_type": "markdown",
   "metadata": {},
   "source": [
    "### Logistic Regression"
   ]
  },
  {
   "cell_type": "code",
   "execution_count": 5,
   "metadata": {
    "scrolled": true
   },
   "outputs": [
    {
     "name": "stdout",
     "output_type": "stream",
     "text": [
      "\n",
      "Model Report\n",
      "Accuracy : 0.5616\n",
      "AUC Score: 0.605481\n"
     ]
    },
    {
     "name": "stderr",
     "output_type": "stream",
     "text": [
      "/Users/dhivyaslh/anaconda3/lib/python3.6/site-packages/sklearn/linear_model/logistic.py:433: FutureWarning: Default solver will be changed to 'lbfgs' in 0.22. Specify a solver to silence this warning.\n",
      "  FutureWarning)\n"
     ]
    }
   ],
   "source": [
    "# Baseline model 2 - Logisitic regression with default parameters\n",
    "model = sk.LogisticRegression()\n",
    "modelfit(model, Xtrain, ytrain, Xtest, ytest)"
   ]
  },
  {
   "cell_type": "markdown",
   "metadata": {},
   "source": [
    "### Support Vector Machine"
   ]
  },
  {
   "cell_type": "code",
   "execution_count": 6,
   "metadata": {},
   "outputs": [
    {
     "name": "stderr",
     "output_type": "stream",
     "text": [
      "/Users/dhivyaslh/anaconda3/lib/python3.6/site-packages/sklearn/svm/base.py:196: FutureWarning: The default value of gamma will change from 'auto' to 'scale' in version 0.22 to account better for unscaled features. Set gamma explicitly to 'auto' or 'scale' to avoid this warning.\n",
      "  \"avoid this warning.\", FutureWarning)\n"
     ]
    },
    {
     "name": "stdout",
     "output_type": "stream",
     "text": [
      "0.5007514080766078\n"
     ]
    }
   ],
   "source": [
    "# Baseline model 3 - SVM Classifier with default parameters\n",
    "model= svm.SVC(kernel=\"rbf\")\n",
    "model.fit(Xtrain, np.array(ytrain).ravel())\n",
    "pred = model.predict(Xtest)\n",
    "print(metrics.roc_auc_score(ytest, pred))"
   ]
  },
  {
   "cell_type": "markdown",
   "metadata": {},
   "source": [
    "### AdaBoost"
   ]
  },
  {
   "cell_type": "code",
   "execution_count": 7,
   "metadata": {},
   "outputs": [
    {
     "name": "stdout",
     "output_type": "stream",
     "text": [
      "\n",
      "Model Report\n",
      "Accuracy : 0.6437\n",
      "AUC Score: 0.694879\n"
     ]
    }
   ],
   "source": [
    "# Baseline model 4 - Adaboost with Default parameters\n",
    "model = en.AdaBoostClassifier()\n",
    "modelfit(model, Xtrain, ytrain, Xtest, ytest)"
   ]
  },
  {
   "cell_type": "markdown",
   "metadata": {},
   "source": [
    "### Random Forest"
   ]
  },
  {
   "cell_type": "code",
   "execution_count": 8,
   "metadata": {},
   "outputs": [
    {
     "name": "stderr",
     "output_type": "stream",
     "text": [
      "/Users/dhivyaslh/anaconda3/lib/python3.6/site-packages/sklearn/ensemble/forest.py:246: FutureWarning: The default value of n_estimators will change from 10 in version 0.20 to 100 in 0.22.\n",
      "  \"10 in version 0.20 to 100 in 0.22.\", FutureWarning)\n"
     ]
    },
    {
     "name": "stdout",
     "output_type": "stream",
     "text": [
      "\n",
      "Model Report\n",
      "Accuracy : 0.6035\n",
      "AUC Score: 0.646661\n"
     ]
    }
   ],
   "source": [
    "# Baseline model 5 - RandomForest with Default parameters\n",
    "model = en.RandomForestClassifier()\n",
    "modelfit(model, Xtrain, ytrain, Xtest, ytest)"
   ]
  },
  {
   "cell_type": "markdown",
   "metadata": {},
   "source": [
    "### Gradient Boosting Classifier"
   ]
  },
  {
   "cell_type": "code",
   "execution_count": 9,
   "metadata": {},
   "outputs": [
    {
     "name": "stdout",
     "output_type": "stream",
     "text": [
      "\n",
      "Model Report\n",
      "Accuracy : 0.6471\n",
      "AUC Score: 0.704359\n"
     ]
    }
   ],
   "source": [
    "# Baseline model 6 - Gradient boosting with Default parameters\n",
    "model = en.GradientBoostingClassifier()\n",
    "modelfit(model, Xtrain, ytrain, Xtest, ytest)"
   ]
  },
  {
   "cell_type": "code",
   "execution_count": 10,
   "metadata": {
    "scrolled": true
   },
   "outputs": [],
   "source": [
    "Xtrain2 = Xtrain\n",
    "Xtest2 = Xtest"
   ]
  },
  {
   "cell_type": "markdown",
   "metadata": {},
   "source": [
    "### Optimizing the model hyper parameters"
   ]
  },
  {
   "cell_type": "code",
   "execution_count": 12,
   "metadata": {
    "scrolled": false
   },
   "outputs": [
    {
     "name": "stdout",
     "output_type": "stream",
     "text": [
      "Accuracy of the GBM on test set: 0.648\n",
      "              precision    recall  f1-score   support\n",
      "\n",
      "           0       0.64      0.57      0.60      6150\n",
      "           1       0.65      0.72      0.68      6933\n",
      "\n",
      "   micro avg       0.65      0.65      0.65     13083\n",
      "   macro avg       0.65      0.64      0.64     13083\n",
      "weighted avg       0.65      0.65      0.65     13083\n",
      "\n"
     ]
    },
    {
     "data": {
      "image/png": "[encoded data removed]",
      "text/plain": [
       "<Figure size 432x288 with 1 Axes>"
      ]
     },
     "metadata": {},
     "output_type": "display_data"
    }
   ],
   "source": [
    "from sklearn.ensemble import GradientBoostingClassifier\n",
    "from sklearn.metrics import classification_report\n",
    "from sklearn.model_selection import GridSearchCV\n",
    "\n",
    "\n",
    "baseline = GradientBoostingClassifier(learning_rate=0.1, n_estimators=100,max_depth=3, min_samples_split=2, min_samples_leaf=1, subsample=1,max_features='sqrt', random_state=10)\n",
    "baseline.fit(Xtrain2,ytrain)\n",
    "predictors=list(Xtrain2)\n",
    "feat_imp = pd.Series(baseline.feature_importances_, predictors).sort_values(ascending=False)\n",
    "feat_imp.plot(kind='bar', title='Importance of Features')\n",
    "plt.ylabel('Feature Importance Score')\n",
    "print('Accuracy of the GBM on test set: {:.3f}'.format(baseline.score(Xtest2, ytest)))\n",
    "pred=baseline.predict(Xtest2)\n",
    "print(classification_report(ytest, pred))"
   ]
  },
  {
   "cell_type": "code",
   "execution_count": 13,
   "metadata": {
    "scrolled": false
   },
   "outputs": [
    {
     "name": "stderr",
     "output_type": "stream",
     "text": [
      "/Users/dhivyaslh/anaconda3/lib/python3.6/site-packages/sklearn/utils/deprecation.py:125: FutureWarning: You are accessing a training score ('split0_train_score'), which will not be available by default any more in 0.21. If you need training scores, please set return_train_score=True\n",
      "  warnings.warn(*warn_args, **warn_kwargs)\n",
      "/Users/dhivyaslh/anaconda3/lib/python3.6/site-packages/sklearn/utils/deprecation.py:125: FutureWarning: You are accessing a training score ('split1_train_score'), which will not be available by default any more in 0.21. If you need training scores, please set return_train_score=True\n",
      "  warnings.warn(*warn_args, **warn_kwargs)\n",
      "/Users/dhivyaslh/anaconda3/lib/python3.6/site-packages/sklearn/utils/deprecation.py:125: FutureWarning: You are accessing a training score ('split2_train_score'), which will not be available by default any more in 0.21. If you need training scores, please set return_train_score=True\n",
      "  warnings.warn(*warn_args, **warn_kwargs)\n",
      "/Users/dhivyaslh/anaconda3/lib/python3.6/site-packages/sklearn/utils/deprecation.py:125: FutureWarning: You are accessing a training score ('split3_train_score'), which will not be available by default any more in 0.21. If you need training scores, please set return_train_score=True\n",
      "  warnings.warn(*warn_args, **warn_kwargs)\n",
      "/Users/dhivyaslh/anaconda3/lib/python3.6/site-packages/sklearn/utils/deprecation.py:125: FutureWarning: You are accessing a training score ('split4_train_score'), which will not be available by default any more in 0.21. If you need training scores, please set return_train_score=True\n",
      "  warnings.warn(*warn_args, **warn_kwargs)\n",
      "/Users/dhivyaslh/anaconda3/lib/python3.6/site-packages/sklearn/utils/deprecation.py:125: FutureWarning: You are accessing a training score ('mean_train_score'), which will not be available by default any more in 0.21. If you need training scores, please set return_train_score=True\n",
      "  warnings.warn(*warn_args, **warn_kwargs)\n",
      "/Users/dhivyaslh/anaconda3/lib/python3.6/site-packages/sklearn/utils/deprecation.py:125: FutureWarning: You are accessing a training score ('std_train_score'), which will not be available by default any more in 0.21. If you need training scores, please set return_train_score=True\n",
      "  warnings.warn(*warn_args, **warn_kwargs)\n"
     ]
    },
    {
     "data": {
      "text/plain": [
       "({'mean_fit_time': array([ 1.80219779,  3.87972722,  8.08753633, 12.21786561, 15.52905526,\n",
       "         20.67868142, 32.57704835, 29.48347812,  1.68459692,  4.59079695,\n",
       "          8.28178844, 12.41457858, 15.51725898, 19.09118395, 25.69688983,\n",
       "         32.27430301,  1.99291883,  3.72659483,  7.11471682, 11.30536146,\n",
       "         15.66251159, 19.32491112, 23.28855038, 26.76893859,  1.71731329,\n",
       "          4.2445683 ,  8.77814331, 12.29031024, 15.64362745, 21.95250406,\n",
       "         24.34976077, 27.72787704,  1.90806928,  4.27677641,  8.56929126,\n",
       "         12.41506667, 18.17652712, 21.27477503, 26.93897433, 34.81951027,\n",
       "          1.9316503 ,  5.17556939, 10.48409524, 13.73569398, 19.62419434,\n",
       "         25.31440587, 27.37920189, 29.02590261]),\n",
       "  'std_fit_time': array([0.07344157, 0.08584479, 0.48031979, 0.28447198, 0.31360028,\n",
       "         0.40116159, 4.07509722, 1.90467828, 0.16118442, 0.17762014,\n",
       "         0.10166979, 0.24901563, 0.15780543, 0.67091213, 0.53821518,\n",
       "         2.46746562, 0.11141226, 0.12798315, 0.0420066 , 0.62141118,\n",
       "         0.1424746 , 0.56928015, 0.30843511, 0.21843549, 0.05287408,\n",
       "         0.11323369, 0.12753978, 0.25717136, 0.29427192, 1.32626657,\n",
       "         1.26656085, 0.55822713, 0.09985447, 0.07642433, 0.4263118 ,\n",
       "         0.32774076, 0.9824641 , 0.84208628, 2.23075971, 1.80123721,\n",
       "         0.14091972, 0.57864976, 0.48451759, 0.67472679, 0.62178045,\n",
       "         0.80567694, 0.37384022, 2.89766702]),\n",
       "  'mean_score_time': array([0.01391878, 0.02989545, 0.05758295, 0.08288541, 0.11226611,\n",
       "         0.14816575, 0.21830769, 0.22788143, 0.01752405, 0.04836268,\n",
       "         0.06078119, 0.09245706, 0.12063503, 0.14094863, 0.25500221,\n",
       "         0.20626392, 0.01795812, 0.03109765, 0.05605664, 0.08466983,\n",
       "         0.1143815 , 0.16183324, 0.19261765, 0.19818635, 0.01910625,\n",
       "         0.03987913, 0.08166943, 0.09652543, 0.12555733, 0.15020046,\n",
       "         0.19059172, 0.20154877, 0.01756167, 0.04211593, 0.07119703,\n",
       "         0.1057364 , 0.14394431, 0.18182769, 0.24123716, 0.31805358,\n",
       "         0.02063603, 0.04314914, 0.0784564 , 0.12171679, 0.17703757,\n",
       "         0.18818641, 0.23938632, 0.26327462]),\n",
       "  'std_score_time': array([0.00027845, 0.00108779, 0.00331928, 0.00202444, 0.00984798,\n",
       "         0.01098766, 0.07057899, 0.02967947, 0.00495611, 0.02181551,\n",
       "         0.00642982, 0.01246036, 0.01826395, 0.00703541, 0.14513382,\n",
       "         0.02305343, 0.00271211, 0.00048946, 0.00139785, 0.00544738,\n",
       "         0.0068359 , 0.03936521, 0.03080501, 0.01612033, 0.00266257,\n",
       "         0.00250161, 0.01816015, 0.00161099, 0.00362906, 0.00410165,\n",
       "         0.02141506, 0.00548947, 0.00158138, 0.00336599, 0.00062247,\n",
       "         0.00748746, 0.01443922, 0.03096296, 0.09594116, 0.10844366,\n",
       "         0.00617125, 0.01004249, 0.00699531, 0.02050308, 0.03438362,\n",
       "         0.00973597, 0.02444734, 0.09310982]),\n",
       "  'param_learning_rate': masked_array(data=[0.15, 0.15, 0.15, 0.15, 0.15, 0.15, 0.15, 0.15, 0.1,\n",
       "                     0.1, 0.1, 0.1, 0.1, 0.1, 0.1, 0.1, 0.05, 0.05, 0.05,\n",
       "                     0.05, 0.05, 0.05, 0.05, 0.05, 0.01, 0.01, 0.01, 0.01,\n",
       "                     0.01, 0.01, 0.01, 0.01, 0.005, 0.005, 0.005, 0.005,\n",
       "                     0.005, 0.005, 0.005, 0.005, 0.001, 0.001, 0.001, 0.001,\n",
       "                     0.001, 0.001, 0.001, 0.001],\n",
       "               mask=[False, False, False, False, False, False, False, False,\n",
       "                     False, False, False, False, False, False, False, False,\n",
       "                     False, False, False, False, False, False, False, False,\n",
       "                     False, False, False, False, False, False, False, False,\n",
       "                     False, False, False, False, False, False, False, False,\n",
       "                     False, False, False, False, False, False, False, False],\n",
       "         fill_value='?',\n",
       "              dtype=object),\n",
       "  'param_n_estimators': masked_array(data=[100, 250, 500, 750, 1000, 1250, 1500, 1750, 100, 250,\n",
       "                     500, 750, 1000, 1250, 1500, 1750, 100, 250, 500, 750,\n",
       "                     1000, 1250, 1500, 1750, 100, 250, 500, 750, 1000, 1250,\n",
       "                     1500, 1750, 100, 250, 500, 750, 1000, 1250, 1500, 1750,\n",
       "                     100, 250, 500, 750, 1000, 1250, 1500, 1750],\n",
       "               mask=[False, False, False, False, False, False, False, False,\n",
       "                     False, False, False, False, False, False, False, False,\n",
       "                     False, False, False, False, False, False, False, False,\n",
       "                     False, False, False, False, False, False, False, False,\n",
       "                     False, False, False, False, False, False, False, False,\n",
       "                     False, False, False, False, False, False, False, False],\n",
       "         fill_value='?',\n",
       "              dtype=object),\n",
       "  'params': [{'learning_rate': 0.15, 'n_estimators': 100},\n",
       "   {'learning_rate': 0.15, 'n_estimators': 250},\n",
       "   {'learning_rate': 0.15, 'n_estimators': 500},\n",
       "   {'learning_rate': 0.15, 'n_estimators': 750},\n",
       "   {'learning_rate': 0.15, 'n_estimators': 1000},\n",
       "   {'learning_rate': 0.15, 'n_estimators': 1250},\n",
       "   {'learning_rate': 0.15, 'n_estimators': 1500},\n",
       "   {'learning_rate': 0.15, 'n_estimators': 1750},\n",
       "   {'learning_rate': 0.1, 'n_estimators': 100},\n",
       "   {'learning_rate': 0.1, 'n_estimators': 250},\n",
       "   {'learning_rate': 0.1, 'n_estimators': 500},\n",
       "   {'learning_rate': 0.1, 'n_estimators': 750},\n",
       "   {'learning_rate': 0.1, 'n_estimators': 1000},\n",
       "   {'learning_rate': 0.1, 'n_estimators': 1250},\n",
       "   {'learning_rate': 0.1, 'n_estimators': 1500},\n",
       "   {'learning_rate': 0.1, 'n_estimators': 1750},\n",
       "   {'learning_rate': 0.05, 'n_estimators': 100},\n",
       "   {'learning_rate': 0.05, 'n_estimators': 250},\n",
       "   {'learning_rate': 0.05, 'n_estimators': 500},\n",
       "   {'learning_rate': 0.05, 'n_estimators': 750},\n",
       "   {'learning_rate': 0.05, 'n_estimators': 1000},\n",
       "   {'learning_rate': 0.05, 'n_estimators': 1250},\n",
       "   {'learning_rate': 0.05, 'n_estimators': 1500},\n",
       "   {'learning_rate': 0.05, 'n_estimators': 1750},\n",
       "   {'learning_rate': 0.01, 'n_estimators': 100},\n",
       "   {'learning_rate': 0.01, 'n_estimators': 250},\n",
       "   {'learning_rate': 0.01, 'n_estimators': 500},\n",
       "   {'learning_rate': 0.01, 'n_estimators': 750},\n",
       "   {'learning_rate': 0.01, 'n_estimators': 1000},\n",
       "   {'learning_rate': 0.01, 'n_estimators': 1250},\n",
       "   {'learning_rate': 0.01, 'n_estimators': 1500},\n",
       "   {'learning_rate': 0.01, 'n_estimators': 1750},\n",
       "   {'learning_rate': 0.005, 'n_estimators': 100},\n",
       "   {'learning_rate': 0.005, 'n_estimators': 250},\n",
       "   {'learning_rate': 0.005, 'n_estimators': 500},\n",
       "   {'learning_rate': 0.005, 'n_estimators': 750},\n",
       "   {'learning_rate': 0.005, 'n_estimators': 1000},\n",
       "   {'learning_rate': 0.005, 'n_estimators': 1250},\n",
       "   {'learning_rate': 0.005, 'n_estimators': 1500},\n",
       "   {'learning_rate': 0.005, 'n_estimators': 1750},\n",
       "   {'learning_rate': 0.001, 'n_estimators': 100},\n",
       "   {'learning_rate': 0.001, 'n_estimators': 250},\n",
       "   {'learning_rate': 0.001, 'n_estimators': 500},\n",
       "   {'learning_rate': 0.001, 'n_estimators': 750},\n",
       "   {'learning_rate': 0.001, 'n_estimators': 1000},\n",
       "   {'learning_rate': 0.001, 'n_estimators': 1250},\n",
       "   {'learning_rate': 0.001, 'n_estimators': 1500},\n",
       "   {'learning_rate': 0.001, 'n_estimators': 1750}],\n",
       "  'split0_test_score': array([0.65255035, 0.6519857 , 0.64972708, 0.64577452, 0.64313947,\n",
       "         0.63881046, 0.63692829, 0.63354037, 0.65537361, 0.653115  ,\n",
       "         0.65010352, 0.648786  , 0.648786  , 0.64615095, 0.6435159 ,\n",
       "         0.64163373, 0.65085639, 0.65556183, 0.65424431, 0.65047995,\n",
       "         0.65160926, 0.65066817, 0.64972708, 0.65029174, 0.63561077,\n",
       "         0.64426877, 0.65123283, 0.65537361, 0.65744401, 0.65706757,\n",
       "         0.6563147 , 0.65669113, 0.61584792, 0.63843403, 0.64502165,\n",
       "         0.64784491, 0.65010352, 0.65292678, 0.65424431, 0.65669113,\n",
       "         0.53547901, 0.54884246, 0.61415396, 0.63052889, 0.63636364,\n",
       "         0.63899868, 0.64031621, 0.64106908]),\n",
       "  'split1_test_score': array([0.65850904, 0.65643825, 0.6534262 , 0.65267319, 0.65587349,\n",
       "         0.64740211, 0.64947289, 0.64533133, 0.66133283, 0.65926205,\n",
       "         0.65474398, 0.65154367, 0.65154367, 0.65192018, 0.64853163,\n",
       "         0.64683735, 0.65286145, 0.6590738 , 0.66057982, 0.66020331,\n",
       "         0.65832078, 0.6534262 , 0.65173193, 0.65229669, 0.63685994,\n",
       "         0.65173193, 0.65794428, 0.65794428, 0.65869729, 0.65982681,\n",
       "         0.6594503 , 0.65869729, 0.61502259, 0.64420181, 0.65060241,\n",
       "         0.65737952, 0.65681476, 0.65888554, 0.66076807, 0.66095633,\n",
       "         0.53539157, 0.5500753 , 0.61408133, 0.62537651, 0.63497741,\n",
       "         0.64533133, 0.64796687, 0.64947289]),\n",
       "  'split2_test_score': array([0.65813253, 0.65380271, 0.64721386, 0.64476657, 0.64326054,\n",
       "         0.63949548, 0.64401355, 0.64194277, 0.64909639, 0.65813253,\n",
       "         0.65455572, 0.64947289, 0.6502259 , 0.64966114, 0.6466491 ,\n",
       "         0.64570783, 0.64834337, 0.65512048, 0.65794428, 0.65794428,\n",
       "         0.65737952, 0.65493223, 0.65229669, 0.64796687, 0.62989458,\n",
       "         0.6378012 , 0.64759036, 0.65248494, 0.65512048, 0.65737952,\n",
       "         0.65737952, 0.65700301, 0.60993976, 0.63535392, 0.63761295,\n",
       "         0.64420181, 0.64947289, 0.65267319, 0.65210843, 0.65267319,\n",
       "         0.53539157, 0.54800452, 0.60730422, 0.62161145, 0.62763554,\n",
       "         0.63045934, 0.63290663, 0.6378012 ]),\n",
       "  'split3_test_score': array([0.63911898, 0.63949548, 0.6434488 , 0.63704819, 0.63215361,\n",
       "         0.63365964, 0.63610693, 0.6346009 , 0.63441265, 0.63685994,\n",
       "         0.640625  , 0.64006024, 0.64024849, 0.64420181, 0.64156627,\n",
       "         0.6378012 , 0.63253012, 0.63874247, 0.6434488 , 0.64608434,\n",
       "         0.6470256 , 0.64570783, 0.64250753, 0.64213102, 0.62575301,\n",
       "         0.63365964, 0.63271837, 0.63648343, 0.63685994, 0.63987199,\n",
       "         0.64081325, 0.64250753, 0.60673946, 0.62838855, 0.63497741,\n",
       "         0.63328313, 0.63234187, 0.63347139, 0.63591867, 0.63855422,\n",
       "         0.53539157, 0.54631024, 0.60560994, 0.61746988, 0.62424699,\n",
       "         0.62744729, 0.62876506, 0.62951807]),\n",
       "  'split4_test_score': array([0.65530873, 0.65135542, 0.64796687, 0.63949548, 0.63516566,\n",
       "         0.6346009 , 0.63121235, 0.62838855, 0.6498494 , 0.65625   ,\n",
       "         0.65210843, 0.6470256 , 0.64439006, 0.6374247 , 0.63836596,\n",
       "         0.63629518, 0.65229669, 0.65380271, 0.65097892, 0.64853163,\n",
       "         0.64966114, 0.64853163, 0.64777861, 0.6470256 , 0.63328313,\n",
       "         0.6374247 , 0.64966114, 0.65041416, 0.65079066, 0.65512048,\n",
       "         0.65568524, 0.65512048, 0.61144578, 0.63403614, 0.63987199,\n",
       "         0.6466491 , 0.6502259 , 0.64947289, 0.64871988, 0.65003765,\n",
       "         0.53539157, 0.55120482, 0.61088102, 0.62970633, 0.63158886,\n",
       "         0.63328313, 0.63441265, 0.63629518]),\n",
       "  'mean_test_score': array([0.65272393, 0.65061551, 0.64835656, 0.64395159, 0.64191856,\n",
       "         0.63879372, 0.6395468 , 0.63676079, 0.65001298, 0.6527239 ,\n",
       "         0.65042733, 0.64737768, 0.64703883, 0.64587176, 0.64372577,\n",
       "         0.64165506, 0.6473776 , 0.65246026, 0.65343922, 0.6526487 ,\n",
       "         0.65279926, 0.65065321, 0.64880837, 0.64794238, 0.63228029,\n",
       "         0.64097725, 0.6478294 , 0.65054008, 0.65178248, 0.65385327,\n",
       "         0.6539286 , 0.65400389, 0.6117991 , 0.63608289, 0.64161728,\n",
       "         0.64587169, 0.64779179, 0.64948596, 0.65035187, 0.6517825 ,\n",
       "         0.53540906, 0.54888747, 0.61040609, 0.62493861, 0.63096249,\n",
       "         0.63510395, 0.63687348, 0.63883129]),\n",
       "  'std_test_score': array([7.13479546e-03, 5.83339502e-03, 3.25955290e-03, 5.43263086e-03,\n",
       "         8.23392375e-03, 4.86899585e-03, 6.42855465e-03, 6.08995127e-03,\n",
       "         8.95670241e-03, 8.20063701e-03, 5.19025425e-03, 3.93440343e-03,\n",
       "         4.16241035e-03, 5.00324617e-03, 3.60768959e-03, 4.16802206e-03,\n",
       "         7.58620228e-03, 7.07693863e-03, 5.96311240e-03, 5.47466757e-03,\n",
       "         4.38326297e-03, 3.31534655e-03, 3.53045491e-03, 3.43780177e-03,\n",
       "         4.03405338e-03, 6.36792820e-03, 8.31444035e-03, 7.47760397e-03,\n",
       "         7.93316607e-03, 7.14886525e-03, 6.68116167e-03, 5.85930170e-03,\n",
       "         3.34561790e-03, 5.20323070e-03, 5.57657283e-03, 7.72254294e-03,\n",
       "         8.17568568e-03, 8.56523939e-03, 8.21844714e-03, 7.57732242e-03,\n",
       "         3.49789899e-05, 1.68551416e-03, 3.47574842e-03, 4.91987937e-03,\n",
       "         4.51333236e-03, 6.37621212e-03, 6.67013768e-03, 6.51890051e-03]),\n",
       "  'rank_test_score': array([ 6, 13, 20, 29, 31, 37, 35, 39, 17,  7, 15, 24, 26, 27, 30, 32, 25,\n",
       "          9,  4,  8,  5, 12, 19, 21, 42, 34, 22, 14, 11,  3,  2,  1, 45, 40,\n",
       "         33, 28, 23, 18, 16, 10, 48, 47, 46, 44, 43, 41, 38, 36],\n",
       "        dtype=int32),\n",
       "  'split0_train_score': array([0.69691265, 0.73762236, 0.78553276, 0.82666604, 0.86276355,\n",
       "         0.88888366, 0.9103445 , 0.92949925, 0.68448795, 0.71790286,\n",
       "         0.75696536, 0.79019202, 0.81692395, 0.84130271, 0.86262236,\n",
       "         0.88097703, 0.66914533, 0.69234752, 0.71790286, 0.73945783,\n",
       "         0.75880083, 0.77357869, 0.78901544, 0.80384036, 0.64429593,\n",
       "         0.65648532, 0.66768637, 0.67799322, 0.68594691, 0.69107681,\n",
       "         0.69625377, 0.70161898, 0.61982304, 0.6470256 , 0.65577937,\n",
       "         0.66199172, 0.66608622, 0.67248682, 0.67705196, 0.68142884,\n",
       "         0.53539157, 0.54748682, 0.61761107, 0.63620105, 0.64302523,\n",
       "         0.64542545, 0.64820218, 0.65013178]),\n",
       "  'split1_train_score': array([0.69433856, 0.73772883, 0.78530754, 0.82723893, 0.8603699 ,\n",
       "         0.88705351, 0.90959575, 0.92809073, 0.68276154, 0.71561015,\n",
       "         0.75829451, 0.78954304, 0.81589722, 0.84102781, 0.8614523 ,\n",
       "         0.88244153, 0.66572545, 0.69118547, 0.71824556, 0.7390936 ,\n",
       "         0.75838863, 0.77542473, 0.79156666, 0.80700268, 0.64083016,\n",
       "         0.65396019, 0.66699609, 0.67654948, 0.68407925, 0.68963245,\n",
       "         0.69584451, 0.70243306, 0.61640548, 0.64403031, 0.6544308 ,\n",
       "         0.66318415, 0.66779613, 0.67221987, 0.67720834, 0.68007906,\n",
       "         0.53541343, 0.54797873, 0.61428773, 0.63141795, 0.63941833,\n",
       "         0.64224199, 0.64713634, 0.64925408]),\n",
       "  'split2_train_score': array([0.69725634, 0.73721116, 0.7904372 , 0.82907431, 0.86474658,\n",
       "         0.89034778, 0.91143113, 0.92865547, 0.68360864, 0.71871617,\n",
       "         0.75754153, 0.78987246, 0.81537955, 0.84065132, 0.86469952,\n",
       "         0.88366511, 0.66812556, 0.69024425, 0.71984564, 0.74064662,\n",
       "         0.75852981, 0.77551885, 0.79081369, 0.80582616, 0.64360676,\n",
       "         0.65532496, 0.66760789, 0.67593769, 0.68351452, 0.69057367,\n",
       "         0.6970681 , 0.70323309, 0.62017036, 0.64614805, 0.65560732,\n",
       "         0.66346652, 0.66821968, 0.67316109, 0.67598475, 0.68036143,\n",
       "         0.53541343, 0.55122594, 0.61631136, 0.63537108, 0.64205374,\n",
       "         0.6457245 , 0.64930114, 0.65160713]),\n",
       "  'split3_train_score': array([0.69857405, 0.73867006, 0.78634289, 0.82770954, 0.85966398,\n",
       "         0.8857358 , 0.90912514, 0.92733776, 0.68699704, 0.71810438,\n",
       "         0.76050638, 0.79048426, 0.81697962, 0.84112194, 0.86055814,\n",
       "         0.87975905, 0.66949033, 0.69415031, 0.71683373, 0.73843475,\n",
       "         0.75843569, 0.77580121, 0.79086075, 0.80521436, 0.64534802,\n",
       "         0.65626618, 0.67160808, 0.67913784, 0.68855005, 0.69297379,\n",
       "         0.69946821, 0.70488023, 0.6228999 , 0.64972469, 0.65786625,\n",
       "         0.66549014, 0.67047861, 0.67466704, 0.67970257, 0.68487929,\n",
       "         0.53541343, 0.55075533, 0.62054685, 0.63767707, 0.64487741,\n",
       "         0.64868935, 0.65061885, 0.6529719 ]),\n",
       "  'split4_train_score': array([0.69636218, 0.73810532, 0.78930773, 0.8305332 , 0.8631465 ,\n",
       "         0.89063015, 0.91199586, 0.93034966, 0.6864323 , 0.71730434,\n",
       "         0.75683562, 0.79071956, 0.81641489, 0.84253377, 0.86305238,\n",
       "         0.88088851, 0.66779613, 0.69255024, 0.71998682, 0.74262318,\n",
       "         0.75970634, 0.77688362, 0.79316674, 0.80733211, 0.64327733,\n",
       "         0.6572074 , 0.66765495, 0.67626712, 0.68544402, 0.69269142,\n",
       "         0.69833875, 0.70332722, 0.61772319, 0.64647748, 0.6574427 ,\n",
       "         0.6644548 , 0.66718434, 0.67297285, 0.67706716, 0.68130265,\n",
       "         0.53541343, 0.55023766, 0.61640548, 0.63438279, 0.6427126 ,\n",
       "         0.64595981, 0.6501953 , 0.6516542 ]),\n",
       "  'mean_train_score': array([0.69668876, 0.73786755, 0.78738562, 0.8282444 , 0.8621381 ,\n",
       "         0.88853018, 0.91049847, 0.92878657, 0.68485749, 0.71752758,\n",
       "         0.75802868, 0.79016227, 0.81631904, 0.84132751, 0.86247694,\n",
       "         0.88154625, 0.66805656, 0.69209556, 0.71856292, 0.7400512 ,\n",
       "         0.75877226, 0.77544142, 0.79108465, 0.80584313, 0.64347164,\n",
       "         0.65584881, 0.66831068, 0.67717707, 0.68550695, 0.69138963,\n",
       "         0.69739467, 0.70309851, 0.61940439, 0.64668123, 0.65622529,\n",
       "         0.66371746, 0.667953  , 0.67310153, 0.67740296, 0.68161025,\n",
       "         0.53540906, 0.5495369 , 0.6170325 , 0.63500999, 0.64241746,\n",
       "         0.64560822, 0.64909076, 0.65112382]),\n",
       "  'std_train_score': array([1.38251243e-03, 4.92087845e-04, 2.09023613e-03, 1.39396078e-03,\n",
       "         1.86868913e-03, 1.88825880e-03, 1.08043375e-03, 1.05371772e-03,\n",
       "         1.62153455e-03, 1.05949799e-03, 1.34171593e-03, 4.20136491e-04,\n",
       "         6.11890085e-04, 6.39527166e-04, 1.41589386e-03, 1.35954573e-03,\n",
       "         1.32270882e-03, 1.32271325e-03, 1.19994565e-03, 1.47320079e-03,\n",
       "         4.88375058e-04, 1.06634186e-03, 1.33959852e-03, 1.26240568e-03,\n",
       "         1.49891263e-03, 1.11950156e-03, 1.66820972e-03, 1.20570863e-03,\n",
       "         1.75875469e-03, 1.26929309e-03, 1.34180150e-03, 1.08413969e-03,\n",
       "         2.22712806e-03, 1.82945020e-03, 1.26299560e-03, 1.18419981e-03,\n",
       "         1.45259391e-03, 8.51602001e-04, 1.23072198e-03, 1.71570564e-03,\n",
       "         8.74598209e-06, 1.51388286e-03, 2.05583825e-03, 2.09563594e-03,\n",
       "         1.76832786e-03, 2.04916682e-03, 1.28130293e-03, 1.29694833e-03])},\n",
       " {'learning_rate': 0.01, 'n_estimators': 1750},\n",
       " 0.6540038896410032)"
      ]
     },
     "execution_count": 13,
     "metadata": {},
     "output_type": "execute_result"
    }
   ],
   "source": [
    "# optimising learning rate and n_estimators\n",
    "p_test3 = {'learning_rate':[0.15,0.1,0.05,0.01,0.005,0.001], 'n_estimators':[100,250,500,750,1000,1250,1500,1750]}\n",
    "\n",
    "tuning = GridSearchCV(estimator = GradientBoostingClassifier(max_depth=4, min_samples_split=2, min_samples_leaf=1, subsample=1,max_features='sqrt', random_state=10), \n",
    "            param_grid = p_test3, scoring='accuracy',n_jobs=4,iid=False, cv=5)\n",
    "tuning.fit(Xtrain2,np.array(ytrain).ravel())\n",
    "tuning.cv_results_, tuning.best_params_, tuning.best_score_"
   ]
  },
  {
   "cell_type": "code",
   "execution_count": 14,
   "metadata": {},
   "outputs": [
    {
     "name": "stderr",
     "output_type": "stream",
     "text": [
      "/Users/dhivyaslh/anaconda3/lib/python3.6/site-packages/sklearn/utils/deprecation.py:125: FutureWarning: You are accessing a training score ('split0_train_score'), which will not be available by default any more in 0.21. If you need training scores, please set return_train_score=True\n",
      "  warnings.warn(*warn_args, **warn_kwargs)\n",
      "/Users/dhivyaslh/anaconda3/lib/python3.6/site-packages/sklearn/utils/deprecation.py:125: FutureWarning: You are accessing a training score ('split1_train_score'), which will not be available by default any more in 0.21. If you need training scores, please set return_train_score=True\n",
      "  warnings.warn(*warn_args, **warn_kwargs)\n",
      "/Users/dhivyaslh/anaconda3/lib/python3.6/site-packages/sklearn/utils/deprecation.py:125: FutureWarning: You are accessing a training score ('split2_train_score'), which will not be available by default any more in 0.21. If you need training scores, please set return_train_score=True\n",
      "  warnings.warn(*warn_args, **warn_kwargs)\n",
      "/Users/dhivyaslh/anaconda3/lib/python3.6/site-packages/sklearn/utils/deprecation.py:125: FutureWarning: You are accessing a training score ('split3_train_score'), which will not be available by default any more in 0.21. If you need training scores, please set return_train_score=True\n",
      "  warnings.warn(*warn_args, **warn_kwargs)\n",
      "/Users/dhivyaslh/anaconda3/lib/python3.6/site-packages/sklearn/utils/deprecation.py:125: FutureWarning: You are accessing a training score ('split4_train_score'), which will not be available by default any more in 0.21. If you need training scores, please set return_train_score=True\n",
      "  warnings.warn(*warn_args, **warn_kwargs)\n",
      "/Users/dhivyaslh/anaconda3/lib/python3.6/site-packages/sklearn/utils/deprecation.py:125: FutureWarning: You are accessing a training score ('mean_train_score'), which will not be available by default any more in 0.21. If you need training scores, please set return_train_score=True\n",
      "  warnings.warn(*warn_args, **warn_kwargs)\n",
      "/Users/dhivyaslh/anaconda3/lib/python3.6/site-packages/sklearn/utils/deprecation.py:125: FutureWarning: You are accessing a training score ('std_train_score'), which will not be available by default any more in 0.21. If you need training scores, please set return_train_score=True\n",
      "  warnings.warn(*warn_args, **warn_kwargs)\n"
     ]
    },
    {
     "data": {
      "text/plain": [
       "({'mean_fit_time': array([13.481144  , 20.787181  , 28.69200873, 39.09917002, 54.02593193,\n",
       "         60.91325788]),\n",
       "  'std_fit_time': array([0.08875035, 0.87734935, 0.16092545, 0.30843075, 2.50482217,\n",
       "         9.73105081]),\n",
       "  'mean_score_time': array([0.13633718, 0.16599822, 0.2146122 , 0.29207935, 0.29278808,\n",
       "         0.30346832]),\n",
       "  'std_score_time': array([0.00676795, 0.0037324 , 0.01368246, 0.05485787, 0.00513968,\n",
       "         0.03561791]),\n",
       "  'param_max_depth': masked_array(data=[2, 3, 4, 5, 6, 7],\n",
       "               mask=[False, False, False, False, False, False],\n",
       "         fill_value='?',\n",
       "              dtype=object),\n",
       "  'params': [{'max_depth': 2},\n",
       "   {'max_depth': 3},\n",
       "   {'max_depth': 4},\n",
       "   {'max_depth': 5},\n",
       "   {'max_depth': 6},\n",
       "   {'max_depth': 7}],\n",
       "  'split0_test_score': array([0.65330322, 0.65650292, 0.65669113, 0.65556183, 0.65819688,\n",
       "         0.65687935]),\n",
       "  'split1_test_score': array([0.65700301, 0.65813253, 0.65869729, 0.66170934, 0.65963855,\n",
       "         0.66246235]),\n",
       "  'split2_test_score': array([0.6534262 , 0.65286145, 0.65700301, 0.66076807, 0.66283886,\n",
       "         0.6626506 ]),\n",
       "  'split3_test_score': array([0.63309488, 0.63610693, 0.64250753, 0.6470256 , 0.64514307,\n",
       "         0.65210843]),\n",
       "  'split4_test_score': array([0.64683735, 0.65192018, 0.65512048, 0.65399096, 0.65399096,\n",
       "         0.64834337]),\n",
       "  'mean_test_score': array([0.64873293, 0.6511048 , 0.65400389, 0.65581116, 0.65596166,\n",
       "         0.65648882]),\n",
       "  'std_test_score': array([0.0084788 , 0.00783856, 0.0058593 , 0.00529001, 0.00611125,\n",
       "         0.00564516]),\n",
       "  'rank_test_score': array([6, 5, 4, 3, 2, 1], dtype=int32),\n",
       "  'split0_train_score': array([0.66001506, 0.67794616, 0.70161898, 0.73912839, 0.78807417,\n",
       "         0.84483245]),\n",
       "  'split1_train_score': array([0.66012518, 0.67697303, 0.70243306, 0.74045837, 0.78864888,\n",
       "         0.85307544]),\n",
       "  'split2_train_score': array([0.66078404, 0.67749071, 0.70323309, 0.74107017, 0.79274319,\n",
       "         0.85354605]),\n",
       "  'split3_train_score': array([0.66567838, 0.67965551, 0.70488023, 0.73918773, 0.788743  ,\n",
       "         0.84822815]),\n",
       "  'split4_train_score': array([0.6619135 , 0.67876135, 0.70332722, 0.74328204, 0.79241376,\n",
       "         0.85194597]),\n",
       "  'mean_train_score': array([0.66170323, 0.67816535, 0.70309851, 0.74062534, 0.7901246 ,\n",
       "         0.85032561]),\n",
       "  'std_train_score': array([0.0020991 , 0.00094875, 0.00108414, 0.00152259, 0.00201931,\n",
       "         0.00332062])},\n",
       " {'max_depth': 7},\n",
       " 0.6564888223135342)"
      ]
     },
     "execution_count": 14,
     "metadata": {},
     "output_type": "execute_result"
    }
   ],
   "source": [
    "# optimising max_depth parameter\n",
    "p_test2 = {'max_depth':[2,3,4,5,6,7] }\n",
    "tuning = GridSearchCV(estimator =GradientBoostingClassifier(learning_rate=0.01,n_estimators=1750, min_samples_split=2, min_samples_leaf=1, subsample=1,max_features='sqrt', random_state=10), \n",
    "            param_grid = p_test2, scoring='accuracy',n_jobs=4,iid=False, cv=5)\n",
    "tuning.fit(Xtrain2,np.array(ytrain).ravel())\n",
    "tuning.cv_results_, tuning.best_params_, tuning.best_score_"
   ]
  },
  {
   "cell_type": "code",
   "execution_count": 15,
   "metadata": {},
   "outputs": [
    {
     "name": "stdout",
     "output_type": "stream",
     "text": [
      "Accuracy of the GBM on test set: 0.653\n",
      "AUC Score: 0.710577\n",
      "              precision    recall  f1-score   support\n",
      "\n",
      "           0       0.64      0.58      0.61      6150\n",
      "           1       0.66      0.72      0.69      6933\n",
      "\n",
      "   micro avg       0.65      0.65      0.65     13083\n",
      "   macro avg       0.65      0.65      0.65     13083\n",
      "weighted avg       0.65      0.65      0.65     13083\n",
      "\n"
     ]
    },
    {
     "data": {
      "image/png": "[encoded data removed]",
      "text/plain": [
       "<Figure size 432x288 with 1 Axes>"
      ]
     },
     "metadata": {},
     "output_type": "display_data"
    }
   ],
   "source": [
    "# fitting a model with the optimised parameters\n",
    "model1 = en.GradientBoostingClassifier(learning_rate=0.01,n_estimators=1750, max_depth=7, min_samples_split=2, min_samples_leaf=1, subsample=1,max_features='sqrt', random_state=10)\n",
    "model1.fit(Xtrain2,ytrain)\n",
    "predictors=list(Xtrain2)\n",
    "feat_imp = pd.Series(model1.feature_importances_, predictors).sort_values(ascending=False)\n",
    "feat_imp.plot(kind='bar', title='Importance of Features')\n",
    "plt.ylabel('Feature Importance Score')\n",
    "print('Accuracy of the GBM on test set: {:.3f}'.format(model1.score(Xtest2, ytest)))\n",
    "print(\"AUC Score: %f\" % metrics.roc_auc_score(ytest, model1.predict_proba(Xtest2)[:,1]))\n",
    "pred=model1.predict(Xtest2)\n",
    "print(classification_report(ytest, pred))"
   ]
  },
  {
   "cell_type": "code",
   "execution_count": 16,
   "metadata": {},
   "outputs": [
    {
     "name": "stderr",
     "output_type": "stream",
     "text": [
      "/Users/dhivyaslh/anaconda3/lib/python3.6/site-packages/sklearn/utils/deprecation.py:125: FutureWarning: You are accessing a training score ('split0_train_score'), which will not be available by default any more in 0.21. If you need training scores, please set return_train_score=True\n",
      "  warnings.warn(*warn_args, **warn_kwargs)\n",
      "/Users/dhivyaslh/anaconda3/lib/python3.6/site-packages/sklearn/utils/deprecation.py:125: FutureWarning: You are accessing a training score ('split1_train_score'), which will not be available by default any more in 0.21. If you need training scores, please set return_train_score=True\n",
      "  warnings.warn(*warn_args, **warn_kwargs)\n",
      "/Users/dhivyaslh/anaconda3/lib/python3.6/site-packages/sklearn/utils/deprecation.py:125: FutureWarning: You are accessing a training score ('split2_train_score'), which will not be available by default any more in 0.21. If you need training scores, please set return_train_score=True\n",
      "  warnings.warn(*warn_args, **warn_kwargs)\n",
      "/Users/dhivyaslh/anaconda3/lib/python3.6/site-packages/sklearn/utils/deprecation.py:125: FutureWarning: You are accessing a training score ('split3_train_score'), which will not be available by default any more in 0.21. If you need training scores, please set return_train_score=True\n",
      "  warnings.warn(*warn_args, **warn_kwargs)\n",
      "/Users/dhivyaslh/anaconda3/lib/python3.6/site-packages/sklearn/utils/deprecation.py:125: FutureWarning: You are accessing a training score ('split4_train_score'), which will not be available by default any more in 0.21. If you need training scores, please set return_train_score=True\n",
      "  warnings.warn(*warn_args, **warn_kwargs)\n",
      "/Users/dhivyaslh/anaconda3/lib/python3.6/site-packages/sklearn/utils/deprecation.py:125: FutureWarning: You are accessing a training score ('mean_train_score'), which will not be available by default any more in 0.21. If you need training scores, please set return_train_score=True\n",
      "  warnings.warn(*warn_args, **warn_kwargs)\n",
      "/Users/dhivyaslh/anaconda3/lib/python3.6/site-packages/sklearn/utils/deprecation.py:125: FutureWarning: You are accessing a training score ('std_train_score'), which will not be available by default any more in 0.21. If you need training scores, please set return_train_score=True\n",
      "  warnings.warn(*warn_args, **warn_kwargs)\n"
     ]
    },
    {
     "data": {
      "text/plain": [
       "({'mean_fit_time': array([ 78.14811296,  89.85443873, 105.49097056, 114.76288776,\n",
       "         125.75852928, 136.59676132, 130.64626684]),\n",
       "  'std_fit_time': array([ 0.96278278,  1.46145978,  2.77759892,  1.29225183,  1.64896406,\n",
       "          2.57627783, 14.54644703]),\n",
       "  'mean_score_time': array([0.33873968, 0.36320162, 0.34557338, 0.34393387, 0.33556523,\n",
       "         0.34742398, 0.29286652]),\n",
       "  'std_score_time': array([0.01259245, 0.02663043, 0.01335471, 0.00953394, 0.01096494,\n",
       "         0.00729193, 0.03653637]),\n",
       "  'param_max_features': masked_array(data=[5, 6, 7, 8, 9, 10, 11],\n",
       "               mask=[False, False, False, False, False, False, False],\n",
       "         fill_value='?',\n",
       "              dtype=object),\n",
       "  'params': [{'max_features': 5},\n",
       "   {'max_features': 6},\n",
       "   {'max_features': 7},\n",
       "   {'max_features': 8},\n",
       "   {'max_features': 9},\n",
       "   {'max_features': 10},\n",
       "   {'max_features': 11}],\n",
       "  'split0_test_score': array([0.65236213, 0.65292678, 0.65480896, 0.65160926, 0.6563147 ,\n",
       "         0.65292678, 0.65273857]),\n",
       "  'split1_test_score': array([0.6594503 , 0.6594503 , 0.65719127, 0.6590738 , 0.65719127,\n",
       "         0.65888554, 0.65587349]),\n",
       "  'split2_test_score': array([0.66057982, 0.66020331, 0.66170934, 0.65625   , 0.66189759,\n",
       "         0.65587349, 0.66114458]),\n",
       "  'split3_test_score': array([0.65003765, 0.64759036, 0.64909639, 0.64777861, 0.64551958,\n",
       "         0.64796687, 0.6470256 ]),\n",
       "  'split4_test_score': array([0.65097892, 0.65267319, 0.64909639, 0.65173193, 0.65192018,\n",
       "         0.65116717, 0.6502259 ]),\n",
       "  'mean_test_score': array([0.65468176, 0.65456879, 0.65438047, 0.65328872, 0.65456866,\n",
       "         0.65336397, 0.65340163]),\n",
       "  'std_test_score': array([0.00443138, 0.00470244, 0.00485056, 0.00394567, 0.00552341,\n",
       "         0.00376646, 0.00484235]),\n",
       "  'rank_test_score': array([1, 2, 4, 7, 3, 6, 5], dtype=int32),\n",
       "  'split0_train_score': array([0.85062123, 0.85382154, 0.85763366, 0.8584808 , 0.86102221,\n",
       "         0.86050452, 0.86328125]),\n",
       "  'split1_train_score': array([0.85580498, 0.86008753, 0.86333475, 0.86582898, 0.86629959,\n",
       "         0.87142924, 0.8701586 ]),\n",
       "  'split2_train_score': array([0.86149936, 0.86554661, 0.86757024, 0.87359405, 0.87307638,\n",
       "         0.87670008, 0.87590004]),\n",
       "  'split3_train_score': array([0.85406372, 0.85876982, 0.8592875 , 0.86168761, 0.86488776,\n",
       "         0.86338181, 0.86700551]),\n",
       "  'split4_train_score': array([0.85914631, 0.86319356, 0.86625253, 0.86813497, 0.86982917,\n",
       "         0.87218222, 0.87284107]),\n",
       "  'mean_train_score': array([0.85622712, 0.86028381, 0.86281573, 0.86554528, 0.86702302,\n",
       "         0.86883957, 0.86983729]),\n",
       "  'std_train_score': array([0.00381058, 0.00400638, 0.00384678, 0.00522223, 0.00413787,\n",
       "         0.0059821 , 0.0044019 ])},\n",
       " {'max_features': 5},\n",
       " 0.6546817634739976)"
      ]
     },
     "execution_count": 16,
     "metadata": {},
     "output_type": "execute_result"
    }
   ],
   "source": [
    "# optimising max_features parameter\n",
    "p_test5 = {'max_features':[5,6,7,8,9,10,11]}\n",
    "tuning = GridSearchCV(estimator =GradientBoostingClassifier(learning_rate=0.01,n_estimators=1750, max_depth=7, min_samples_split=2, min_samples_leaf=1, subsample=1, random_state=10), \n",
    "param_grid = p_test5, scoring='accuracy',n_jobs=4,iid=False, cv=5)\n",
    "tuning.fit(Xtrain2,np.array(ytrain).ravel())\n",
    "tuning.cv_results_, tuning.best_params_, tuning.best_score_"
   ]
  },
  {
   "cell_type": "code",
   "execution_count": 18,
   "metadata": {},
   "outputs": [
    {
     "name": "stdout",
     "output_type": "stream",
     "text": [
      "Accuracy of the GBM on test set: 0.650\n",
      "AUC Score: 0.710165\n",
      "              precision    recall  f1-score   support\n",
      "\n",
      "           0       0.64      0.58      0.61      6150\n",
      "           1       0.66      0.72      0.69      6933\n",
      "\n",
      "   micro avg       0.65      0.65      0.65     13083\n",
      "   macro avg       0.65      0.65      0.65     13083\n",
      "weighted avg       0.65      0.65      0.65     13083\n",
      "\n"
     ]
    },
    {
     "data": {
      "image/png": "[encoded data removed]",
      "text/plain": [
       "<Figure size 432x288 with 1 Axes>"
      ]
     },
     "metadata": {},
     "output_type": "display_data"
    }
   ],
   "source": [
    "# building a model after tuning the parameters to check test accuracies\n",
    "model2 = GradientBoostingClassifier(learning_rate=0.01,n_estimators=1750, max_features=5, max_depth=7, min_samples_split=2, min_samples_leaf=1, subsample=1, random_state=10)\n",
    "model2.fit(Xtrain2,ytrain)\n",
    "predictors=list(Xtrain2)\n",
    "feat_imp = pd.Series(model2.feature_importances_, predictors).sort_values(ascending=False)\n",
    "feat_imp.plot(kind='bar', title='Importance of Features')\n",
    "plt.ylabel('Feature Importance Score')\n",
    "print('Accuracy of the GBM on test set: {:.3f}'.format(model2.score(Xtest2, ytest)))\n",
    "print(\"AUC Score: %f\" % metrics.roc_auc_score(ytest, model2.predict_proba(Xtest2)[:,1]))\n",
    "pred=model1.predict(Xtest2)\n",
    "print(classification_report(ytest, pred))"
   ]
  },
  {
   "cell_type": "code",
   "execution_count": 19,
   "metadata": {
    "scrolled": true
   },
   "outputs": [
    {
     "name": "stderr",
     "output_type": "stream",
     "text": [
      "/Users/dhivyaslh/anaconda3/lib/python3.6/site-packages/sklearn/utils/deprecation.py:125: FutureWarning: You are accessing a training score ('split0_train_score'), which will not be available by default any more in 0.21. If you need training scores, please set return_train_score=True\n",
      "  warnings.warn(*warn_args, **warn_kwargs)\n",
      "/Users/dhivyaslh/anaconda3/lib/python3.6/site-packages/sklearn/utils/deprecation.py:125: FutureWarning: You are accessing a training score ('split1_train_score'), which will not be available by default any more in 0.21. If you need training scores, please set return_train_score=True\n",
      "  warnings.warn(*warn_args, **warn_kwargs)\n",
      "/Users/dhivyaslh/anaconda3/lib/python3.6/site-packages/sklearn/utils/deprecation.py:125: FutureWarning: You are accessing a training score ('split2_train_score'), which will not be available by default any more in 0.21. If you need training scores, please set return_train_score=True\n",
      "  warnings.warn(*warn_args, **warn_kwargs)\n",
      "/Users/dhivyaslh/anaconda3/lib/python3.6/site-packages/sklearn/utils/deprecation.py:125: FutureWarning: You are accessing a training score ('split3_train_score'), which will not be available by default any more in 0.21. If you need training scores, please set return_train_score=True\n",
      "  warnings.warn(*warn_args, **warn_kwargs)\n",
      "/Users/dhivyaslh/anaconda3/lib/python3.6/site-packages/sklearn/utils/deprecation.py:125: FutureWarning: You are accessing a training score ('split4_train_score'), which will not be available by default any more in 0.21. If you need training scores, please set return_train_score=True\n",
      "  warnings.warn(*warn_args, **warn_kwargs)\n",
      "/Users/dhivyaslh/anaconda3/lib/python3.6/site-packages/sklearn/utils/deprecation.py:125: FutureWarning: You are accessing a training score ('mean_train_score'), which will not be available by default any more in 0.21. If you need training scores, please set return_train_score=True\n",
      "  warnings.warn(*warn_args, **warn_kwargs)\n",
      "/Users/dhivyaslh/anaconda3/lib/python3.6/site-packages/sklearn/utils/deprecation.py:125: FutureWarning: You are accessing a training score ('std_train_score'), which will not be available by default any more in 0.21. If you need training scores, please set return_train_score=True\n",
      "  warnings.warn(*warn_args, **warn_kwargs)\n"
     ]
    },
    {
     "data": {
      "text/plain": [
       "({'mean_fit_time': array([ 52.67605481, 140.93790479,  22.64432373,  39.9801754 ,\n",
       "          43.52172418,  77.47996569, 108.10833631, 141.93781204,\n",
       "         169.23069229, 271.50940204]),\n",
       "  'std_fit_time': array([ 82.17741252, 102.06864472,   1.29530454,   2.35595452,\n",
       "           2.39382149,   5.39763244,   1.98500426,  11.04479886,\n",
       "           6.18565888,  52.4716087 ]),\n",
       "  'mean_score_time': array([0.07573886, 0.12217979, 0.22022185, 0.22777996, 0.2598938 ,\n",
       "         0.35839458, 0.42979765, 0.44114223, 0.56071358, 0.66682086]),\n",
       "  'std_score_time': array([0.009737  , 0.00518933, 0.05068683, 0.04155509, 0.0476518 ,\n",
       "         0.03489746, 0.04046526, 0.03146012, 0.10568385, 0.22913821]),\n",
       "  'param_max_depth': masked_array(data=[1, 2, 3, 4, 5, 6, 7, 8, 9, 10],\n",
       "               mask=[False, False, False, False, False, False, False, False,\n",
       "                     False, False],\n",
       "         fill_value='?',\n",
       "              dtype=object),\n",
       "  'params': [{'max_depth': 1},\n",
       "   {'max_depth': 2},\n",
       "   {'max_depth': 3},\n",
       "   {'max_depth': 4},\n",
       "   {'max_depth': 5},\n",
       "   {'max_depth': 6},\n",
       "   {'max_depth': 7},\n",
       "   {'max_depth': 8},\n",
       "   {'max_depth': 9},\n",
       "   {'max_depth': 10}],\n",
       "  'split0_test_score': array([0.64276303, 0.65273857, 0.65650292, 0.65819688, 0.6563147 ,\n",
       "         0.65819688, 0.65236213, 0.65029174, 0.65217391, 0.65518539]),\n",
       "  'split1_test_score': array([0.65399096, 0.65737952, 0.65756777, 0.66208584, 0.66095633,\n",
       "         0.66283886, 0.6594503 , 0.65926205, 0.65850904, 0.66114458]),\n",
       "  'split2_test_score': array([0.64269578, 0.6534262 , 0.65399096, 0.65737952, 0.66039157,\n",
       "         0.65756777, 0.66057982, 0.65982681, 0.65737952, 0.65154367]),\n",
       "  'split3_test_score': array([0.62970633, 0.6342244 , 0.63893072, 0.64269578, 0.64326054,\n",
       "         0.64439006, 0.65003765, 0.64890813, 0.64928464, 0.64570783]),\n",
       "  'split4_test_score': array([0.64194277, 0.64551958, 0.6534262 , 0.65530873, 0.65399096,\n",
       "         0.65399096, 0.65097892, 0.65135542, 0.65154367, 0.64871988]),\n",
       "  'mean_test_score': array([0.64221978, 0.64865765, 0.65208372, 0.65513335, 0.65498282,\n",
       "         0.65539691, 0.65468176, 0.65392883, 0.65377816, 0.65246027]),\n",
       "  'std_test_score': array([0.00769085, 0.0081686 , 0.00675345, 0.00659532, 0.00640479,\n",
       "         0.00618162, 0.00443138, 0.00465376, 0.00355272, 0.00535294]),\n",
       "  'rank_test_score': array([10,  9,  8,  2,  3,  1,  4,  5,  6,  7], dtype=int32),\n",
       "  'split0_train_score': array([0.64919051, 0.66119164, 0.67926393, 0.7049134 , 0.74190512,\n",
       "         0.79230986, 0.85062123, 0.91669804, 0.96564383, 0.9927052 ]),\n",
       "  'split1_train_score': array([0.64515977, 0.66064285, 0.67819662, 0.70309191, 0.74229376,\n",
       "         0.79391971, 0.85580498, 0.92272578, 0.97091628, 0.99322321]),\n",
       "  'split2_train_score': array([0.64760695, 0.66134877, 0.6789496 , 0.70586851, 0.74544684,\n",
       "         0.7962257 , 0.86149936, 0.92573768, 0.97425761, 0.99534096]),\n",
       "  'split3_train_score': array([0.65108946, 0.6663843 , 0.6808791 , 0.70436256, 0.74210551,\n",
       "         0.794908  , 0.85406372, 0.9219728 , 0.96837498, 0.99439974]),\n",
       "  'split4_train_score': array([0.64939527, 0.66341946, 0.67890254, 0.70662149, 0.74384677,\n",
       "         0.7951433 , 0.85914631, 0.92216104, 0.97228105, 0.99458798]),\n",
       "  'mean_train_score': array([0.64848839, 0.6625974 , 0.67923836, 0.70497157, 0.7431196 ,\n",
       "         0.79450132, 0.85622712, 0.92185907, 0.97029475, 0.99405142]),\n",
       "  'std_train_score': array([0.00199688, 0.00211527, 0.00089152, 0.00121936, 0.00135131,\n",
       "         0.00131847, 0.00381058, 0.00291668, 0.00301173, 0.00095607])},\n",
       " {'max_depth': 6},\n",
       " 0.6553969052381179)"
      ]
     },
     "execution_count": 19,
     "metadata": {},
     "output_type": "execute_result"
    }
   ],
   "source": [
    "# tuning max_depth parameter with the new model\n",
    "p_test6= {'max_depth':list(range(1,11,1))}\n",
    "tuning = GridSearchCV(estimator =GradientBoostingClassifier(learning_rate=0.01,n_estimators=1750, max_features=5, min_samples_split=2, min_samples_leaf=1, subsample=1, random_state=10), \n",
    "param_grid = p_test6, scoring='accuracy',n_jobs=4,iid=False, cv=5)\n",
    "tuning.fit(Xtrain2,np.array(ytrain).ravel())\n",
    "tuning.cv_results_, tuning.best_params_, tuning.best_score_"
   ]
  },
  {
   "cell_type": "code",
   "execution_count": 20,
   "metadata": {},
   "outputs": [
    {
     "name": "stdout",
     "output_type": "stream",
     "text": [
      "Accuracy of the GBM on test set: 0.651\n",
      "AUC Score: 0.710384\n",
      "              precision    recall  f1-score   support\n",
      "\n",
      "           0       0.64      0.58      0.61      6150\n",
      "           1       0.66      0.72      0.68      6933\n",
      "\n",
      "   micro avg       0.65      0.65      0.65     13083\n",
      "   macro avg       0.65      0.65      0.65     13083\n",
      "weighted avg       0.65      0.65      0.65     13083\n",
      "\n"
     ]
    },
    {
     "data": {
      "image/png": "[encoded data removed]",
      "text/plain": [
       "<Figure size 432x288 with 1 Axes>"
      ]
     },
     "metadata": {},
     "output_type": "display_data"
    }
   ],
   "source": [
    "# new model after tuning the parameters to check test accuracies\n",
    "model2 = en.GradientBoostingClassifier(learning_rate=0.01, n_estimators=1750, max_depth=6, max_features=5, min_samples_split=2, min_samples_leaf=1, subsample=1, random_state=10)\n",
    "model2.fit(Xtrain2,ytrain)\n",
    "predictors=list(Xtrain2)\n",
    "feat_imp = pd.Series(model2.feature_importances_, predictors).sort_values(ascending=False)\n",
    "feat_imp.plot(kind='bar', title='Importance of Features')\n",
    "plt.ylabel('Feature Importance Score')\n",
    "print('Accuracy of the GBM on test set: {:.3f}'.format(model2.score(Xtest2, ytest)))\n",
    "print(\"AUC Score: %f\" % metrics.roc_auc_score(ytest, model2.predict_proba(Xtest2)[:,1]))\n",
    "pred=model2.predict(Xtest2)\n",
    "print(classification_report(ytest, pred))"
   ]
  },
  {
   "cell_type": "code",
   "execution_count": 21,
   "metadata": {},
   "outputs": [
    {
     "name": "stderr",
     "output_type": "stream",
     "text": [
      "/Users/dhivyaslh/anaconda3/lib/python3.6/site-packages/sklearn/externals/joblib/externals/loky/process_executor.py:706: UserWarning: A worker stopped while some jobs were given to the executor. This can be caused by a too short worker timeout or by a memory leak.\n",
      "  \"timeout or by a memory leak.\", UserWarning\n",
      "/Users/dhivyaslh/anaconda3/lib/python3.6/site-packages/sklearn/utils/deprecation.py:125: FutureWarning: You are accessing a training score ('split0_train_score'), which will not be available by default any more in 0.21. If you need training scores, please set return_train_score=True\n",
      "  warnings.warn(*warn_args, **warn_kwargs)\n",
      "/Users/dhivyaslh/anaconda3/lib/python3.6/site-packages/sklearn/utils/deprecation.py:125: FutureWarning: You are accessing a training score ('split1_train_score'), which will not be available by default any more in 0.21. If you need training scores, please set return_train_score=True\n",
      "  warnings.warn(*warn_args, **warn_kwargs)\n",
      "/Users/dhivyaslh/anaconda3/lib/python3.6/site-packages/sklearn/utils/deprecation.py:125: FutureWarning: You are accessing a training score ('split2_train_score'), which will not be available by default any more in 0.21. If you need training scores, please set return_train_score=True\n",
      "  warnings.warn(*warn_args, **warn_kwargs)\n",
      "/Users/dhivyaslh/anaconda3/lib/python3.6/site-packages/sklearn/utils/deprecation.py:125: FutureWarning: You are accessing a training score ('split3_train_score'), which will not be available by default any more in 0.21. If you need training scores, please set return_train_score=True\n",
      "  warnings.warn(*warn_args, **warn_kwargs)\n",
      "/Users/dhivyaslh/anaconda3/lib/python3.6/site-packages/sklearn/utils/deprecation.py:125: FutureWarning: You are accessing a training score ('split4_train_score'), which will not be available by default any more in 0.21. If you need training scores, please set return_train_score=True\n",
      "  warnings.warn(*warn_args, **warn_kwargs)\n",
      "/Users/dhivyaslh/anaconda3/lib/python3.6/site-packages/sklearn/utils/deprecation.py:125: FutureWarning: You are accessing a training score ('mean_train_score'), which will not be available by default any more in 0.21. If you need training scores, please set return_train_score=True\n",
      "  warnings.warn(*warn_args, **warn_kwargs)\n",
      "/Users/dhivyaslh/anaconda3/lib/python3.6/site-packages/sklearn/utils/deprecation.py:125: FutureWarning: You are accessing a training score ('std_train_score'), which will not be available by default any more in 0.21. If you need training scores, please set return_train_score=True\n",
      "  warnings.warn(*warn_args, **warn_kwargs)\n"
     ]
    },
    {
     "data": {
      "text/plain": [
       "({'mean_fit_time': array([32.79618759, 39.1069643 , 43.34078178, 47.91540198, 59.37945905,\n",
       "         70.59106774, 76.71055212, 70.42291493, 55.43048735]),\n",
       "  'std_fit_time': array([0.36041522, 0.48071112, 0.22039845, 0.19632583, 5.82609684,\n",
       "         3.58195467, 4.1442175 , 4.62423168, 8.02450085]),\n",
       "  'mean_score_time': array([0.30717688, 0.29706869, 0.31332664, 0.29516582, 0.40119843,\n",
       "         0.37541285, 0.45961065, 0.33777966, 0.25724416]),\n",
       "  'std_score_time': array([0.00593164, 0.00223728, 0.02275724, 0.00242553, 0.07389094,\n",
       "         0.04003491, 0.06923173, 0.06622462, 0.04096216]),\n",
       "  'param_subsample': masked_array(data=[0.1, 0.2, 0.30000000000000004, 0.4, 0.5, 0.6,\n",
       "                     0.7000000000000001, 0.8, 0.9],\n",
       "               mask=[False, False, False, False, False, False, False, False,\n",
       "                     False],\n",
       "         fill_value='?',\n",
       "              dtype=object),\n",
       "  'params': [{'subsample': 0.1},\n",
       "   {'subsample': 0.2},\n",
       "   {'subsample': 0.30000000000000004},\n",
       "   {'subsample': 0.4},\n",
       "   {'subsample': 0.5},\n",
       "   {'subsample': 0.6},\n",
       "   {'subsample': 0.7000000000000001},\n",
       "   {'subsample': 0.8},\n",
       "   {'subsample': 0.9}],\n",
       "  'split0_test_score': array([0.65612648, 0.65913796, 0.65405609, 0.6595144 , 0.65669113,\n",
       "         0.65725579, 0.65518539, 0.65894975, 0.65763222]),\n",
       "  'split1_test_score': array([0.65775602, 0.65963855, 0.66378012, 0.66246235, 0.66396837,\n",
       "         0.66302711, 0.66321536, 0.66152108, 0.6622741 ]),\n",
       "  'split2_test_score': array([0.65097892, 0.65700301, 0.65756777, 0.65850904, 0.65587349,\n",
       "         0.66076807, 0.66302711, 0.65549699, 0.66152108]),\n",
       "  'split3_test_score': array([0.64307229, 0.64740211, 0.64457831, 0.64815512, 0.64608434,\n",
       "         0.64890813, 0.64740211, 0.64608434, 0.64777861]),\n",
       "  'split4_test_score': array([0.64533133, 0.64909639, 0.64928464, 0.65361446, 0.65229669,\n",
       "         0.6498494 , 0.65003765, 0.65568524, 0.65436747]),\n",
       "  'mean_test_score': array([0.65065301, 0.6544556 , 0.65385339, 0.65645107, 0.65498281,\n",
       "         0.6559617 , 0.65577352, 0.65554748, 0.6567147 ]),\n",
       "  'std_test_score': array([0.00576725, 0.00517204, 0.00662236, 0.00503237, 0.00584551,\n",
       "         0.00568874, 0.00650111, 0.00523129, 0.00529553]),\n",
       "  'rank_test_score': array([9, 7, 8, 2, 6, 3, 4, 5, 1], dtype=int32),\n",
       "  'split0_train_score': array([0.75240023, 0.7729198 , 0.78393261, 0.78981551, 0.79452184,\n",
       "         0.79786333, 0.80144014, 0.80120482, 0.7996988 ]),\n",
       "  'split1_train_score': array([0.7516589 , 0.77015389, 0.78215445, 0.78794296, 0.79288437,\n",
       "         0.7959904 , 0.79933173, 0.80008471, 0.80079063]),\n",
       "  'split2_train_score': array([0.75100005, 0.76958916, 0.78003671, 0.78846063, 0.79241376,\n",
       "         0.79542567, 0.79834345, 0.80102593, 0.80276719]),\n",
       "  'split3_train_score': array([0.75123535, 0.7706245 , 0.78196621, 0.7876606 , 0.79311968,\n",
       "         0.79636689, 0.7985317 , 0.80140242, 0.79904937]),\n",
       "  'split4_train_score': array([0.75269424, 0.7731658 , 0.78394277, 0.79039014, 0.79453151,\n",
       "         0.7979199 , 0.79914349, 0.80337898, 0.8015436 ]),\n",
       "  'mean_train_score': array([0.75179775, 0.77129063, 0.78240655, 0.78885397, 0.79349423,\n",
       "         0.79671324, 0.7993581 , 0.80141937, 0.80076992]),\n",
       "  'std_train_score': array([0.000654  , 0.00146979, 0.00145344, 0.00106707, 0.0008731 ,\n",
       "         0.00100787, 0.001104  , 0.00107912, 0.00131877])},\n",
       " {'subsample': 0.9},\n",
       " 0.6567146975819711)"
      ]
     },
     "execution_count": 21,
     "metadata": {},
     "output_type": "execute_result"
    }
   ],
   "source": [
    "# tuning the subsample parameter\n",
    "p_test6= {'subsample':np.arange(0.1,1,0.1)}\n",
    "tuning = GridSearchCV(estimator =GradientBoostingClassifier(learning_rate=0.01, n_estimators=1750, max_depth=6, max_features=5, min_samples_split=2, min_samples_leaf=1, random_state=10), \n",
    "param_grid = p_test6, scoring='accuracy',n_jobs=4,iid=False, cv=5)\n",
    "tuning.fit(Xtrain2,np.array(ytrain).ravel())\n",
    "tuning.cv_results_, tuning.best_params_, tuning.best_score_"
   ]
  },
  {
   "cell_type": "code",
   "execution_count": 23,
   "metadata": {},
   "outputs": [
    {
     "name": "stdout",
     "output_type": "stream",
     "text": [
      "Accuracy of the GBM on test set: 0.651\n",
      "AUC Score: 0.710916\n",
      "              precision    recall  f1-score   support\n",
      "\n",
      "           0       0.64      0.58      0.61      6150\n",
      "           1       0.66      0.71      0.68      6933\n",
      "\n",
      "   micro avg       0.65      0.65      0.65     13083\n",
      "   macro avg       0.65      0.65      0.65     13083\n",
      "weighted avg       0.65      0.65      0.65     13083\n",
      "\n"
     ]
    },
    {
     "data": {
      "image/png": "[encoded data removed]",
      "text/plain": [
       "<Figure size 432x288 with 1 Axes>"
      ]
     },
     "metadata": {},
     "output_type": "display_data"
    }
   ],
   "source": [
    "# new model based on tuned parameters to check test accuracies\n",
    "model2 = en.GradientBoostingClassifier(learning_rate=0.01, n_estimators=1750, subsample=0.9, max_depth=6, max_features=5, min_samples_split=2, min_samples_leaf=1, random_state=10)\n",
    "model2.fit(Xtrain2,ytrain)\n",
    "predictors=list(Xtrain2)\n",
    "feat_imp = pd.Series(model2.feature_importances_, predictors).sort_values(ascending=False)\n",
    "feat_imp.plot(kind='bar', title='Importance of Features')\n",
    "plt.ylabel('Feature Importance Score')\n",
    "print('Accuracy of the GBM on test set: {:.3f}'.format(model2.score(Xtest2, ytest)))\n",
    "print(\"AUC Score: %f\" % metrics.roc_auc_score(ytest, model2.predict_proba(Xtest2)[:,1]))\n",
    "pred=model2.predict(Xtest2)\n",
    "print(classification_report(ytest, pred))"
   ]
  },
  {
   "cell_type": "code",
   "execution_count": 24,
   "metadata": {},
   "outputs": [],
   "source": [
    "# Function to get X with polynomial features of a given degree\n",
    "def getPolynomialX(degree, X):\n",
    "    poly_quadratic = skp.PolynomialFeatures(degree)\n",
    "    X = poly_quadratic.fit_transform(pd.DataFrame(X))\n",
    "    return X"
   ]
  },
  {
   "cell_type": "code",
   "execution_count": 25,
   "metadata": {},
   "outputs": [],
   "source": [
    "# three degree polynomial feature set data\n",
    "Xtrain3 = getPolynomialX(3, Xtrain2)\n",
    "Xtest3 = getPolynomialX(3, Xtest2)"
   ]
  },
  {
   "cell_type": "code",
   "execution_count": 26,
   "metadata": {},
   "outputs": [
    {
     "name": "stdout",
     "output_type": "stream",
     "text": [
      "Accuracy of the GBM on test set: 0.650\n",
      "AUC Score: 0.704493\n",
      "              precision    recall  f1-score   support\n",
      "\n",
      "           0       0.64      0.58      0.61      6150\n",
      "           1       0.66      0.71      0.68      6933\n",
      "\n",
      "   micro avg       0.65      0.65      0.65     13083\n",
      "   macro avg       0.65      0.65      0.65     13083\n",
      "weighted avg       0.65      0.65      0.65     13083\n",
      "\n"
     ]
    },
    {
     "data": {
      "image/png": "[encoded data removed]",
      "text/plain": [
       "<Figure size 432x288 with 1 Axes>"
      ]
     },
     "metadata": {},
     "output_type": "display_data"
    }
   ],
   "source": [
    "# new model with tuned parameters and polynomial data to check the test accuracies\n",
    "model2 = en.GradientBoostingClassifier(learning_rate=0.01, n_estimators=1750, subsample=0.9, max_depth=6, max_features=5, min_samples_split=2, min_samples_leaf=1, random_state=10)\n",
    "model2.fit(Xtrain3,ytrain)\n",
    "predictors=list(Xtrain3)\n",
    "# feat_imp = pd.Series(model2.feature_importances_, predictors).sort_values(ascending=False)\n",
    "# feat_imp.plot(kind='bar', title='Importance of Features')\n",
    "plt.ylabel('Feature Importance Score')\n",
    "print('Accuracy of the GBM on test set: {:.3f}'.format(model2.score(Xtest3, ytest)))\n",
    "print(\"AUC Score: %f\" % metrics.roc_auc_score(ytest, model2.predict_proba(Xtest3)[:,1]))\n",
    "pred=model2.predict(Xtest3)\n",
    "print(classification_report(ytest, pred))"
   ]
  },
  {
   "cell_type": "code",
   "execution_count": 27,
   "metadata": {},
   "outputs": [],
   "source": [
    "# four degree polynomial feature set data\n",
    "Xtrain4 = getPolynomialX(4, Xtrain2)\n",
    "Xtest4 = getPolynomialX(4, Xtest2)"
   ]
  },
  {
   "cell_type": "code",
   "execution_count": 28,
   "metadata": {},
   "outputs": [
    {
     "name": "stdout",
     "output_type": "stream",
     "text": [
      "Accuracy of the GBM on test set: 0.627\n",
      "AUC Score: 0.676354\n",
      "              precision    recall  f1-score   support\n",
      "\n",
      "           0       0.61      0.57      0.59      6150\n",
      "           1       0.64      0.68      0.66      6933\n",
      "\n",
      "   micro avg       0.63      0.63      0.63     13083\n",
      "   macro avg       0.63      0.62      0.62     13083\n",
      "weighted avg       0.63      0.63      0.63     13083\n",
      "\n"
     ]
    },
    {
     "data": {
      "image/png": "[encoded data removed]",
      "text/plain": [
       "<Figure size 432x288 with 1 Axes>"
      ]
     },
     "metadata": {},
     "output_type": "display_data"
    }
   ],
   "source": [
    "# new model with tuned parameters and polynomial data to check the test accuracies\n",
    "model2 = en.GradientBoostingClassifier(learning_rate=0.005, subsample=0.2, n_estimators=750, min_samples_split=2, min_samples_leaf=1,max_features=6, random_state=10)\n",
    "model2.fit(Xtrain4,ytrain)\n",
    "predictors=list(Xtrain4)\n",
    "# feat_imp = pd.Series(model2.feature_importances_, predictors).sort_values(ascending=False)\n",
    "# feat_imp.plot(kind='bar', title='Importance of Features')\n",
    "plt.ylabel('Feature Importance Score')\n",
    "print('Accuracy of the GBM on test set: {:.3f}'.format(model2.score(Xtest4, ytest)))\n",
    "print(\"AUC Score: %f\" % metrics.roc_auc_score(ytest, model2.predict_proba(Xtest4)[:,1]))\n",
    "pred=model2.predict(Xtest4)\n",
    "print(classification_report(ytest, pred))"
   ]
  },
  {
   "cell_type": "markdown",
   "metadata": {},
   "source": [
    "## Gradient boosting model with parameters learning_rate = 0.01, n_estimators = 1750 seems to perform the best for determining popularity of an article"
   ]
  }
 ],
 "metadata": {
  "kernelspec": {
   "display_name": "Python 3",
   "language": "python",
   "name": "python3"
  },
  "language_info": {
   "codemirror_mode": {
    "name": "ipython",
    "version": 3
   },
   "file_extension": ".py",
   "mimetype": "text/x-python",
   "name": "python",
   "nbconvert_exporter": "python",
   "pygments_lexer": "ipython3",
   "version": "3.6.5"
  }
 },
 "nbformat": 4,
 "nbformat_minor": 2
}
