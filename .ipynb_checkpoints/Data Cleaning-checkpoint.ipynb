{
 "cells": [
  {
   "cell_type": "code",
   "execution_count": 2,
   "metadata": {},
   "outputs": [],
   "source": [
    "import pandas as pd\n",
    "import numpy as np\n",
    "import matplotlib.pyplot as plt"
   ]
  },
  {
   "cell_type": "code",
   "execution_count": null,
   "metadata": {
    "scrolled": true
   },
   "outputs": [],
   "source": [
    "data = pd.read_excel(\"Final Dataset.xlsx\")\n",
    "data.columns"
   ]
  },
  {
   "cell_type": "code",
   "execution_count": null,
   "metadata": {},
   "outputs": [],
   "source": [
    "columns = data.columns"
   ]
  },
  {
   "cell_type": "code",
   "execution_count": null,
   "metadata": {},
   "outputs": [],
   "source": [
    "for col in columns:\n",
    "    print(col)"
   ]
  },
  {
   "cell_type": "code",
   "execution_count": null,
   "metadata": {},
   "outputs": [],
   "source": [
    "needed_columns1 = ['UNITID','INSTNM','CITY','STABBR','ZIP','INSTURL','NPCURL','REGION','LOCALE','LOCALE2',\n",
    "                  'LATITUDE','LONGITUDE','HBCU','PBI','ANNHI','TRIBAL','AANAPII','HSI','NANTI','MENONLY',\n",
    "                  'WOMENONLY','ADM_RATE','ACTCMMID','SAT_AVG','CURROPER','COSTT4_A','COSTT4_P','TUITIONFEE_IN',\n",
    "                  'TUITIONFEE_OUT','TUITIONFEE_PROG','TUITFTE','PFTFAC','PCTPELL','DEBT_MDN','FEMALE_DEBT_MDN',\n",
    "                  'MALE_DEBT_MDN','COUNT_ED','AGE_ENTRY','FEMALE','MARRIED','DEPENDENT','VETERAN','FIRST_GEN',\n",
    "                  'FAMINC','MD_FAMINC','MEDIAN_HH_INC','COUNT_NWNE_P10','COUNT_WNE_P10','MD_EARN_WNE_P10',\n",
    "                  'SD_EARN_WNE_P10','DEBT_MDN_SUPP','GRAD_DEBT_MDN_SUPP','ICLEVEL','UGDS_MEN','UGDS_WOMEN']"
   ]
  },
  {
   "cell_type": "code",
   "execution_count": null,
   "metadata": {},
   "outputs": [],
   "source": [
    "newData1 = data.loc[:,needed_columns1]\n",
    "newData1.columns"
   ]
  },
  {
   "cell_type": "code",
   "execution_count": 17,
   "metadata": {},
   "outputs": [],
   "source": [
    "needed_columns2 = ['UNITID','INSTNM','CITY','STABBR','ZIP','INSTURL','NPCURL','REGION','LOCALE','LOCALE2',\n",
    "                  'LATITUDE','LONGITUDE','HBCU','PBI','ANNHI','TRIBAL','AANAPII','HSI','NANTI','MENONLY',\n",
    "                  'WOMENONLY','ADM_RATE','ACTCMMID','SAT_AVG','CURROPER','COSTT4_A','COSTT4_P','TUITIONFEE_IN',\n",
    "                  'TUITIONFEE_OUT','TUITIONFEE_PROG','TUITFTE','PFTFAC','PCTPELL','DEBT_MDN','FEMALE_DEBT_MDN',\n",
    "                  'MALE_DEBT_MDN','COUNT_ED','AGE_ENTRY','FEMALE','MARRIED','DEPENDENT','VETERAN','FIRST_GEN',\n",
    "                  'FAMINC','MD_FAMINC','MEDIAN_HH_INC','COUNT_NWNE_P6','COUNT_WNE_P6','MN_EARN_WNE_P6',\n",
    "                  'SD_EARN_WNE_P6','DEBT_MDN_SUPP','GRAD_DEBT_MDN_SUPP','ICLEVEL','UGDS_MEN','UGDS_WOMEN']"
   ]
  },
  {
   "cell_type": "code",
   "execution_count": null,
   "metadata": {},
   "outputs": [],
   "source": [
    "newData2 = data.loc[:,needed_columns2]\n",
    "newData2.columns"
   ]
  },
  {
   "cell_type": "code",
   "execution_count": null,
   "metadata": {},
   "outputs": [],
   "source": [
    "newData1.to_csv(\"Cleaned_median_salary.csv\")\n",
    "newData2.to_csv(\"Cleaned_mean_salary.csv\")"
   ]
  },
  {
   "cell_type": "code",
   "execution_count": null,
   "metadata": {},
   "outputs": [],
   "source": [
    "newData1.to_excel(\"Cleaned_median_salary.xlsx\")\n",
    "newData2.to_excel(\"Cleaned_mean_salary.xlsx\")"
   ]
  },
  {
   "cell_type": "code",
   "execution_count": null,
   "metadata": {},
   "outputs": [],
   "source": [
    "def convertToFloat(data, column):\n",
    "    data.loc[:,column] = data.loc[:,column].replace(\"PrivacySuppressed\", None)\n",
    "    data.loc[:,column] = pd.to_numeric(data.loc[:,column])\n",
    "    return data"
   ]
  },
  {
   "cell_type": "code",
   "execution_count": null,
   "metadata": {
    "scrolled": true
   },
   "outputs": [],
   "source": [
    "newData2['VETERAN'] = newData2['VETERAN'].replace(\"PrivacySuppressed\", None)"
   ]
  },
  {
   "cell_type": "code",
   "execution_count": null,
   "metadata": {
    "scrolled": true
   },
   "outputs": [],
   "source": [
    "newData2.loc[0,'VETERAN'] = None\n",
    "newData2['VETERAN'] = pd.to_numeric(newData2['VETERAN'])"
   ]
  },
  {
   "cell_type": "code",
   "execution_count": null,
   "metadata": {},
   "outputs": [],
   "source": [
    "cols = ['MN_EARN_WNE_P10', 'GRAD_DEBT_MDN_SUPP', 'DEBT_MDN_SUPP', 'SD_EARN_WNE_P10','COUNT_WNE_P10','COUNT_NWNE_P10',\n",
    "        'AGE_ENTRY', 'FEMALE', 'MARRIED', 'DEPENDENT', 'VETERAN', 'FIRST_GEN', 'FAMINC','DEBT_MDN', 'FEMALE_DEBT_MDN', \n",
    "        'MALE_DEBT_MDN']\n",
    "for col in cols:\n",
    "    print(col)\n",
    "    newData2 = convertToFloat(newData2, col)"
   ]
  },
  {
   "cell_type": "code",
   "execution_count": null,
   "metadata": {
    "scrolled": true
   },
   "outputs": [],
   "source": [
    "newData2.to_excel(\"Cleaned_mean_salary.xlsx\")"
   ]
  },
  {
   "cell_type": "code",
   "execution_count": null,
   "metadata": {},
   "outputs": [],
   "source": [
    "# filling null values with mean and mode as required\n",
    "def handleNulls(data):\n",
    "    for col in data.columns:\n",
    "        if(data[col].dtype == 'object'):\n",
    "            print(\"Replacing NaNs in \", col, \" with mode\")\n",
    "            data[col] = data[col].fillna(data[col].value_counts().index[0])\n",
    "        else:\n",
    "            print(\"Replacing NaNs in \", col, \" with mean\")\n",
    "            data[col] = data[col].fillna(data[col].mean())\n",
    "    return data\n",
    "\n",
    "# feature normalization function\n",
    "def feature_normalization(X):\n",
    "    n = X.shape[1]\n",
    "    X_norm = X\n",
    "    X_norm = pd.DataFrame(X_norm)\n",
    "    mu = np.zeros(n)\n",
    "    sigma = np.zeros(n)\n",
    "    \n",
    "    for i in range(n):\n",
    "        mu[i] = np.mean(X_norm.iloc[:,i])\n",
    "        sigma[i] = np.std(X_norm.iloc[:, i])\n",
    "        X_norm.iloc[:, i] = (X_norm.iloc[:,i] - mu[i])/sigma[i]\n",
    "        \n",
    "    return X_norm, mu, sigma\n",
    "\n",
    "# code to normalize numerical variables and one hot encoding of categorical variables\n",
    "def cleanData(X):\n",
    "    \n",
    "    # Taking out numerical columns and normalizing them\n",
    "    numericColumns = pd.DataFrame(X.select_dtypes(exclude='object'))\n",
    "    numericColumns, nmu, nsigma = feature_normalization(numericColumns)\n",
    "    \n",
    "    # Taking out categorical columns and applying one hot encoding techniques\n",
    "    categoricalColumns = pd.DataFrame(X.select_dtypes(exclude = ['int64','float64']))\n",
    "    for col in categoricalColumns.columns:\n",
    "        dfname = pd.DataFrame(categoricalColumns[col])\n",
    "        dfname = pd.get_dummies(dfname,prefix=[col])\n",
    "        categoricalColumns = categoricalColumns.join(dfname)\n",
    "    categoricalColumns = categoricalColumns.select_dtypes(exclude= 'object')\n",
    "    \n",
    "    # Merging the cleaned numerical and categorical columns back together\n",
    "    cleanedX = numericColumns\n",
    "    for col in categoricalColumns:\n",
    "        cleanedX[col] = categoricalColumns[col]\n",
    "    \n",
    "    return cleanedX"
   ]
  },
  {
   "cell_type": "code",
   "execution_count": null,
   "metadata": {},
   "outputs": [],
   "source": [
    "features = ['UNITID','INSTNM','CITY','STABBR','ZIP','INSTURL','NPCURL','REGION','LOCALE','LOCALE2',\n",
    "                  'LATITUDE','LONGITUDE','HBCU','PBI','ANNHI','TRIBAL','AANAPII','HSI','NANTI','MENONLY',\n",
    "                  'WOMENONLY','ADM_RATE','ACTCMMID','SAT_AVG','CURROPER','COSTT4_A','COSTT4_P','TUITIONFEE_IN',\n",
    "                  'TUITIONFEE_OUT','TUITIONFEE_PROG','TUITFTE','PFTFAC','PCTPELL','DEBT_MDN','FEMALE_DEBT_MDN',\n",
    "                  'MALE_DEBT_MDN','COUNT_ED','AGE_ENTRY','FEMALE','MARRIED','DEPENDENT','VETERAN','FIRST_GEN',\n",
    "                  'FAMINC','MD_FAMINC','MEDIAN_HH_INC','COUNT_NWNE_P10','COUNT_WNE_P10','SD_EARN_WNE_P10',\n",
    "                  'DEBT_MDN_SUPP','GRAD_DEBT_MDN_SUPP','ICLEVEL','UGDS_MEN','UGDS_WOMEN']\n",
    "\n",
    "target_var = ['MN_EARN_WNE_P10']"
   ]
  },
  {
   "cell_type": "code",
   "execution_count": null,
   "metadata": {},
   "outputs": [],
   "source": [
    "X = newData2.loc[:,features]\n",
    "y = newData2.loc[:,target_var]"
   ]
  },
  {
   "cell_type": "code",
   "execution_count": null,
   "metadata": {},
   "outputs": [],
   "source": [
    "from sklearn.model_selection import train_test_split\n",
    "X_train, X_test, y_train, y_test = train_test_split(X, y, test_size=0.20, random_state=42)"
   ]
  },
  {
   "cell_type": "code",
   "execution_count": null,
   "metadata": {
    "scrolled": true
   },
   "outputs": [],
   "source": [
    "from sklearn.ensemble import GradientBoostingClassifier\n",
    "model = GradientBoostingClassifier()\n",
    "model.fit(X_train, y_train)"
   ]
  },
  {
   "cell_type": "code",
   "execution_count": 3,
   "metadata": {},
   "outputs": [],
   "source": [
    "data11_12 = pd.read_csv(\"MERGED2011_12_PP.csv\")"
   ]
  },
  {
   "cell_type": "code",
   "execution_count": 4,
   "metadata": {},
   "outputs": [
    {
     "name": "stderr",
     "output_type": "stream",
     "text": [
      "/Users/dhivyaslh/anaconda3/lib/python3.6/site-packages/IPython/core/interactiveshell.py:2785: DtypeWarning: Columns (1,6,1461,1561,1729) have mixed types. Specify dtype option on import or set low_memory=False.\n",
      "  interactivity=interactivity, compiler=compiler, result=result)\n"
     ]
    }
   ],
   "source": [
    "data10_11 = pd.read_csv(\"MERGED2010_11_PP.csv\")"
   ]
  },
  {
   "cell_type": "code",
   "execution_count": 5,
   "metadata": {
    "scrolled": true
   },
   "outputs": [
    {
     "data": {
      "text/plain": [
       "UNITID                          int64\n",
       "OPEID                           int64\n",
       "OPEID6                          int64\n",
       "INSTNM                         object\n",
       "CITY                           object\n",
       "STABBR                         object\n",
       "ZIP                            object\n",
       "ACCREDAGENCY                  float64\n",
       "INSTURL                       float64\n",
       "NPCURL                        float64\n",
       "SCH_DEG                       float64\n",
       "HCM2                          float64\n",
       "MAIN                            int64\n",
       "NUMBRANCH                       int64\n",
       "PREDDEG                         int64\n",
       "HIGHDEG                         int64\n",
       "CONTROL                         int64\n",
       "ST_FIPS                       float64\n",
       "REGION                        float64\n",
       "LOCALE                        float64\n",
       "LOCALE2                       float64\n",
       "LATITUDE                      float64\n",
       "LONGITUDE                     float64\n",
       "CCBASIC                       float64\n",
       "CCUGPROF                      float64\n",
       "CCSIZSET                      float64\n",
       "HBCU                          float64\n",
       "PBI                           float64\n",
       "ANNHI                         float64\n",
       "TRIBAL                        float64\n",
       "                               ...   \n",
       "OMAWDP6_PTNFT_POOLED          float64\n",
       "OMACHT8_PTNFT_POOLED          float64\n",
       "OMAWDP8_PTNFT_POOLED          float64\n",
       "OMENRYP8_PTNFT_POOLED         float64\n",
       "OMENRAP8_PTNFT_POOLED         float64\n",
       "OMENRUP8_PTNFT_POOLED         float64\n",
       "poolyrsOM_FTFT                float64\n",
       "poolyrsOM_PTFT                float64\n",
       "poolyrsOM_FTNFT               float64\n",
       "poolyrsOM_PTNFT               float64\n",
       "OMAWDP6_FTFT_POOLED_SUPP      float64\n",
       "OMAWDP8_FTFT_POOLED_SUPP      float64\n",
       "OMENRYP8_FTFT_POOLED_SUPP     float64\n",
       "OMENRAP8_FTFT_POOLED_SUPP     float64\n",
       "OMENRUP8_FTFT_POOLED_SUPP     float64\n",
       "OMAWDP6_PTFT_POOLED_SUPP      float64\n",
       "OMAWDP8_PTFT_POOLED_SUPP      float64\n",
       "OMENRYP8_PTFT_POOLED_SUPP     float64\n",
       "OMENRAP8_PTFT_POOLED_SUPP     float64\n",
       "OMENRUP8_PTFT_POOLED_SUPP     float64\n",
       "OMAWDP6_FTNFT_POOLED_SUPP     float64\n",
       "OMAWDP8_FTNFT_POOLED_SUPP     float64\n",
       "OMENRYP8_FTNFT_POOLED_SUPP    float64\n",
       "OMENRAP8_FTNFT_POOLED_SUPP    float64\n",
       "OMENRUP8_FTNFT_POOLED_SUPP    float64\n",
       "OMAWDP6_PTNFT_POOLED_SUPP     float64\n",
       "OMAWDP8_PTNFT_POOLED_SUPP     float64\n",
       "OMENRYP8_PTNFT_POOLED_SUPP    float64\n",
       "OMENRAP8_PTNFT_POOLED_SUPP    float64\n",
       "OMENRUP8_PTNFT_POOLED_SUPP    float64\n",
       "Length: 1899, dtype: object"
      ]
     },
     "execution_count": 5,
     "metadata": {},
     "output_type": "execute_result"
    }
   ],
   "source": [
    "data11_12.dtypes"
   ]
  },
  {
   "cell_type": "code",
   "execution_count": 18,
   "metadata": {},
   "outputs": [
    {
     "data": {
      "text/plain": [
       "Index(['UNITID', 'INSTNM', 'CITY', 'STABBR', 'ZIP', 'INSTURL', 'NPCURL',\n",
       "       'REGION', 'LOCALE', 'LOCALE2', 'LATITUDE', 'LONGITUDE', 'HBCU', 'PBI',\n",
       "       'ANNHI', 'TRIBAL', 'AANAPII', 'HSI', 'NANTI', 'MENONLY', 'WOMENONLY',\n",
       "       'ADM_RATE', 'ACTCMMID', 'SAT_AVG', 'CURROPER', 'COSTT4_A', 'COSTT4_P',\n",
       "       'TUITIONFEE_IN', 'TUITIONFEE_OUT', 'TUITIONFEE_PROG', 'TUITFTE',\n",
       "       'PFTFAC', 'PCTPELL', 'DEBT_MDN', 'FEMALE_DEBT_MDN', 'MALE_DEBT_MDN',\n",
       "       'COUNT_ED', 'AGE_ENTRY', 'FEMALE', 'MARRIED', 'DEPENDENT', 'VETERAN',\n",
       "       'FIRST_GEN', 'FAMINC', 'MD_FAMINC', 'MEDIAN_HH_INC', 'COUNT_NWNE_P6',\n",
       "       'COUNT_WNE_P6', 'MN_EARN_WNE_P6', 'SD_EARN_WNE_P6', 'DEBT_MDN_SUPP',\n",
       "       'GRAD_DEBT_MDN_SUPP', 'ICLEVEL', 'UGDS_MEN', 'UGDS_WOMEN'],\n",
       "      dtype='object')"
      ]
     },
     "execution_count": 18,
     "metadata": {},
     "output_type": "execute_result"
    }
   ],
   "source": [
    "data11_12_chosen_columns = data11_12.loc[:,needed_columns2]\n",
    "data11_12_chosen_columns.columns"
   ]
  },
  {
   "cell_type": "code",
   "execution_count": 19,
   "metadata": {},
   "outputs": [
    {
     "data": {
      "text/plain": [
       "Index(['UNITID', 'INSTNM', 'CITY', 'STABBR', 'ZIP', 'INSTURL', 'NPCURL',\n",
       "       'REGION', 'LOCALE', 'LOCALE2', 'LATITUDE', 'LONGITUDE', 'HBCU', 'PBI',\n",
       "       'ANNHI', 'TRIBAL', 'AANAPII', 'HSI', 'NANTI', 'MENONLY', 'WOMENONLY',\n",
       "       'ADM_RATE', 'ACTCMMID', 'SAT_AVG', 'CURROPER', 'COSTT4_A', 'COSTT4_P',\n",
       "       'TUITIONFEE_IN', 'TUITIONFEE_OUT', 'TUITIONFEE_PROG', 'TUITFTE',\n",
       "       'PFTFAC', 'PCTPELL', 'DEBT_MDN', 'FEMALE_DEBT_MDN', 'MALE_DEBT_MDN',\n",
       "       'COUNT_ED', 'AGE_ENTRY', 'FEMALE', 'MARRIED', 'DEPENDENT', 'VETERAN',\n",
       "       'FIRST_GEN', 'FAMINC', 'MD_FAMINC', 'MEDIAN_HH_INC', 'COUNT_NWNE_P6',\n",
       "       'COUNT_WNE_P6', 'MN_EARN_WNE_P6', 'SD_EARN_WNE_P6', 'DEBT_MDN_SUPP',\n",
       "       'GRAD_DEBT_MDN_SUPP', 'ICLEVEL', 'UGDS_MEN', 'UGDS_WOMEN'],\n",
       "      dtype='object')"
      ]
     },
     "execution_count": 19,
     "metadata": {},
     "output_type": "execute_result"
    }
   ],
   "source": [
    "data10_11_chosen_columns = data10_11.loc[:,needed_columns2]\n",
    "data10_11_chosen_columns.columns"
   ]
  },
  {
   "cell_type": "code",
   "execution_count": 20,
   "metadata": {},
   "outputs": [
    {
     "data": {
      "text/plain": [
       "UNITID                   0\n",
       "INSTNM                   0\n",
       "CITY                     0\n",
       "STABBR                   0\n",
       "ZIP                      0\n",
       "INSTURL               7414\n",
       "NPCURL                7414\n",
       "REGION                   0\n",
       "LOCALE                7414\n",
       "LOCALE2               7414\n",
       "LATITUDE              7414\n",
       "LONGITUDE             7414\n",
       "HBCU                  7414\n",
       "PBI                   7414\n",
       "ANNHI                 7414\n",
       "TRIBAL                7414\n",
       "AANAPII               7414\n",
       "HSI                   7414\n",
       "NANTI                 7414\n",
       "MENONLY               7414\n",
       "WOMENONLY             7414\n",
       "ADM_RATE              5107\n",
       "ACTCMMID              6083\n",
       "SAT_AVG               5985\n",
       "CURROPER              7414\n",
       "COSTT4_A              3359\n",
       "COSTT4_P              4991\n",
       "TUITIONFEE_IN         3102\n",
       "TUITIONFEE_OUT        3257\n",
       "TUITIONFEE_PROG       4883\n",
       "TUITFTE                331\n",
       "PFTFAC                2867\n",
       "PCTPELL                629\n",
       "DEBT_MDN                76\n",
       "FEMALE_DEBT_MDN         76\n",
       "MALE_DEBT_MDN           76\n",
       "COUNT_ED              7414\n",
       "AGE_ENTRY              105\n",
       "FEMALE                 105\n",
       "MARRIED                105\n",
       "DEPENDENT              105\n",
       "VETERAN                105\n",
       "FIRST_GEN              105\n",
       "FAMINC                 105\n",
       "MD_FAMINC              105\n",
       "MEDIAN_HH_INC         7414\n",
       "COUNT_NWNE_P6         7414\n",
       "COUNT_WNE_P6          7414\n",
       "MN_EARN_WNE_P6        7414\n",
       "SD_EARN_WNE_P6        7414\n",
       "DEBT_MDN_SUPP           76\n",
       "GRAD_DEBT_MDN_SUPP      76\n",
       "ICLEVEL                  0\n",
       "UGDS_MEN               550\n",
       "UGDS_WOMEN             550\n",
       "dtype: int64"
      ]
     },
     "execution_count": 20,
     "metadata": {},
     "output_type": "execute_result"
    }
   ],
   "source": [
    "data10_11_chosen_columns.isnull().sum()"
   ]
  },
  {
   "cell_type": "code",
   "execution_count": 21,
   "metadata": {},
   "outputs": [
    {
     "data": {
      "text/plain": [
       "UNITID                   0\n",
       "INSTNM                   0\n",
       "CITY                     0\n",
       "STABBR                   0\n",
       "ZIP                      0\n",
       "INSTURL               7675\n",
       "NPCURL                7675\n",
       "REGION                   1\n",
       "LOCALE                7675\n",
       "LOCALE2               7675\n",
       "LATITUDE              7675\n",
       "LONGITUDE             7675\n",
       "HBCU                  7675\n",
       "PBI                   7675\n",
       "ANNHI                 7675\n",
       "TRIBAL                7675\n",
       "AANAPII               7675\n",
       "HSI                   7675\n",
       "NANTI                 7675\n",
       "MENONLY               7675\n",
       "WOMENONLY             7675\n",
       "ADM_RATE              5328\n",
       "ACTCMMID              6342\n",
       "SAT_AVG               6253\n",
       "CURROPER              7675\n",
       "COSTT4_A              3520\n",
       "COSTT4_P              5139\n",
       "TUITIONFEE_IN         3254\n",
       "TUITIONFEE_OUT        3423\n",
       "TUITIONFEE_PROG       5032\n",
       "TUITFTE                364\n",
       "PFTFAC                3291\n",
       "PCTPELL                677\n",
       "DEBT_MDN                61\n",
       "FEMALE_DEBT_MDN         61\n",
       "MALE_DEBT_MDN           61\n",
       "COUNT_ED              7675\n",
       "AGE_ENTRY              112\n",
       "FEMALE                 112\n",
       "MARRIED                112\n",
       "DEPENDENT              112\n",
       "VETERAN                112\n",
       "FIRST_GEN              112\n",
       "FAMINC                 112\n",
       "MD_FAMINC              112\n",
       "MEDIAN_HH_INC         7675\n",
       "COUNT_NWNE_P6          636\n",
       "COUNT_WNE_P6           636\n",
       "MN_EARN_WNE_P6         636\n",
       "SD_EARN_WNE_P6         636\n",
       "DEBT_MDN_SUPP           61\n",
       "GRAD_DEBT_MDN_SUPP      61\n",
       "ICLEVEL                  0\n",
       "UGDS_MEN               623\n",
       "UGDS_WOMEN             623\n",
       "dtype: int64"
      ]
     },
     "execution_count": 21,
     "metadata": {},
     "output_type": "execute_result"
    }
   ],
   "source": [
    "data11_12_chosen_columns.isnull().sum()"
   ]
  },
  {
   "cell_type": "code",
   "execution_count": 22,
   "metadata": {},
   "outputs": [
    {
     "data": {
      "text/plain": [
       "7288"
      ]
     },
     "execution_count": 22,
     "metadata": {},
     "output_type": "execute_result"
    }
   ],
   "source": [
    "len(data10_11_chosen_columns['INSTNM'].unique())"
   ]
  },
  {
   "cell_type": "code",
   "execution_count": 23,
   "metadata": {},
   "outputs": [
    {
     "data": {
      "text/plain": [
       "7522"
      ]
     },
     "execution_count": 23,
     "metadata": {},
     "output_type": "execute_result"
    }
   ],
   "source": [
    "len(data11_12_chosen_columns['INSTNM'].unique())"
   ]
  },
  {
   "cell_type": "code",
   "execution_count": 24,
   "metadata": {},
   "outputs": [
    {
     "data": {
      "text/plain": [
       "7675"
      ]
     },
     "execution_count": 24,
     "metadata": {},
     "output_type": "execute_result"
    }
   ],
   "source": [
    "len(data11_12_chosen_columns)"
   ]
  },
  {
   "cell_type": "code",
   "execution_count": 25,
   "metadata": {},
   "outputs": [],
   "source": [
    "data11_12_chosen_columns.to_excel(\"FinalData.xlsx\")"
   ]
  },
  {
   "cell_type": "code",
   "execution_count": null,
   "metadata": {},
   "outputs": [],
   "source": []
  }
 ],
 "metadata": {
  "kernelspec": {
   "display_name": "Python 3",
   "language": "python",
   "name": "python3"
  }
 },
 "nbformat": 4,
 "nbformat_minor": 2
}
